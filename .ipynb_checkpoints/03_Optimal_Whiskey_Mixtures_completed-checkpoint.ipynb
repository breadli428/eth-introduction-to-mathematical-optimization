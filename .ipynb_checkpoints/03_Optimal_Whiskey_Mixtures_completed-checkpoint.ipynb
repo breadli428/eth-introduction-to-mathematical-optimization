{
 "cells": [
  {
   "cell_type": "markdown",
   "metadata": {},
   "source": [
    "# Optimal Whiskey Mixtures\n",
    "\n",
    "<b>Goal.</b> Set up and solve an LP with `pulp`.\n",
    "\n",
    "An importer for whiskey is faced with an unlimited market for his products. However, his monthly amount to purchase is limited by import constraints as follows:\n",
    "- <i>Sir Roses</i>:  at most 2000 liters for 35 CHF each\n",
    "- <i>Highland Wind</i>:  at most 2500 liters for 25 CHF each\n",
    "- <i>Old Frenzy</i>:  at most 1200 liters for 20 CHF each\n",
    "\n",
    "Based on this, he produces the mixtures A, B, and C that he sells for 34 CHF, 28 CHF, and 23 CHF per liter, respectively. The mixtures are composed by the following ratios:\n",
    "- Mixture A: at least 60% <i>Sir Roses</i>, at most 20% <i>Old Frenzy</i>\n",
    "- Mixture B: at least 15% <i>Sir Roses</i>, at most 60% <i>Old Frenzy</i>\n",
    "- Mixture C: at most 50% <i>Old Frenzy</i>\n",
    "\n",
    "Now the importer needs to know how he should compose the mixtures A, B, and C and how much should be produced of each as to maximize his profit.\n",
    "\n",
    "<b>Your Task:</b> Advise the importer to maximize his profit! Determine the solution by implementing an LP with `pulp`.\n",
    "\n",
    "<b>Step 1:</b> Set up the LP."
   ]
  },
  {
   "cell_type": "code",
   "execution_count": 1,
   "metadata": {},
   "outputs": [],
   "source": [
    "import pulp\n",
    "\n",
    "# Set up the optimization program\n",
    "\n",
    "mylp = pulp.LpProblem(\"Whiskey Mixtures\", pulp.LpMaximize)"
   ]
  },
  {
   "cell_type": "markdown",
   "metadata": {},
   "source": [
    "<b>Step 2:</b> Introduce suitable variables and describe them briefly.\n",
    "\n",
    "We introduce the nine variables\n",
    "\n",
    "$$x_{i,j} \\geq 0 \\text{ the number of liters of spirit $i$ used in mixture $j$ for $i\\in \\{SR,HW,OF\\}$ and $j\\in \\{A,B,C\\}$}$$\n",
    "\n",
    "The imported amount of a spirit, say <i>Highland Wind</i>, will then be the sum $x_{HW,A} + x_{HW,B} + x_{HW,C}$ and the prodcued amount of a mixture, say mixture C, will be $x_{SR,C} + x_{HW,C} + x_{OF,C}$."
   ]
  },
  {
   "cell_type": "code",
   "execution_count": 2,
   "metadata": {},
   "outputs": [],
   "source": [
    "# Create the variables\n",
    "\n",
    "SR = {i: pulp.LpVariable(f'SR{i}', lowBound=0) for i in [\"A\",\"B\",\"C\"]} #l of Sir Roses used for A, B, C\n",
    "HW = {i: pulp.LpVariable(f'HW{i}', lowBound=0) for i in [\"A\",\"B\",\"C\"]} #l of Highland Wind used for A, B, C\n",
    "OF = {i: pulp.LpVariable(f'OF{i}', lowBound=0) for i in [\"A\",\"B\",\"C\"]} #l of Old Frenzy used for A, B, C"
   ]
  },
  {
   "cell_type": "markdown",
   "metadata": {},
   "source": [
    "<b>Step 3:</b> Write down and implement the objective function.\n",
    "\n",
    "The objective function is composed of the sales minus the expenses:\n",
    "\n",
    "\\begin{array}{rcrcrc}\n",
    "\\max\t    & + 34&(x_{SR,A} &+& x_{HW,A} &+& x_{OF,A}) \\\\\n",
    "            & + 28&(x_{SR,B} &+& x_{HW,B} &+& x_{OF,B}) \\\\\n",
    "            & + 23&(x_{SR,C} &+& x_{HW,C} &+& x_{OF,C}) \\\\\n",
    "            & - 35&(x_{SR,A} &+& x_{SR,B} &+& x_{SR,C}) \\\\\n",
    "            & - 25&(x_{HW,A} &+& x_{HW,B} &+& x_{HW,C}) \\\\\n",
    "            & - 20&(x_{OF,A} &+& x_{OF,B} &+& x_{OF,C})\n",
    "\\end{array}"
   ]
  },
  {
   "cell_type": "code",
   "execution_count": 3,
   "metadata": {},
   "outputs": [],
   "source": [
    "# Add the objective function\n",
    "\n",
    "mylp += 34*(SR[\"A\"] + HW[\"A\"] + OF[\"A\"]) + 28*(SR[\"B\"] + HW[\"B\"] + OF[\"B\"]) + 23*(SR[\"C\"] + HW[\"C\"] + OF[\"C\"]) \\\n",
    "      - 35*(SR[\"A\"] + SR[\"B\"] + SR[\"C\"]) - 25*(HW[\"A\"] + HW[\"B\"] + HW[\"C\"]) - 20*(OF[\"A\"] + OF[\"B\"] + OF[\"C\"])"
   ]
  },
  {
   "cell_type": "markdown",
   "metadata": {},
   "source": [
    "<b>Step 4:</b> Write down and implement the constraints concerning the import restrictions and the composition requirements.\n",
    "\n",
    "The import restrictions are\n",
    "\n",
    "\\begin{array}{rcrcrc}\n",
    "            & x_{SR,A} &+& x_{SR,B} &+& x_{SR,C} &\\leq &2000 \\\\\n",
    "            & x_{HW,A} &+& x_{HW,B} &+& x_{HW,C} &\\leq &2500 \\\\\n",
    "            & x_{OF,A} &+& x_{OF,B} &+& x_{OF,C} &\\leq &1200\n",
    "\\end{array}"
   ]
  },
  {
   "cell_type": "code",
   "execution_count": 4,
   "metadata": {},
   "outputs": [],
   "source": [
    "# Add the constraints concerning the import restrictions\n",
    "\n",
    "mylp += SR[\"A\"] + SR[\"B\"] + SR[\"C\"] <= 2000\n",
    "mylp += HW[\"A\"] + HW[\"B\"] + HW[\"C\"] <= 2500\n",
    "mylp += OF[\"A\"] + OF[\"B\"] + OF[\"C\"] <= 1200"
   ]
  },
  {
   "cell_type": "markdown",
   "metadata": {},
   "source": [
    "The composition requirements are\n",
    "\n",
    "\\begin{array}{rcrcrc}\n",
    "           x_{SR,A} &\\geq& 0.6&(x_{SR,A} &+& x_{HW,A} &+& x_{OF,A}) \\\\\n",
    "           x_{OF,A} &\\leq& 0.2&(x_{SR,A} &+& x_{HW,A} &+& x_{OF,A}) \\\\\n",
    "           x_{SR,B} &\\geq& 0.15&(x_{SR,B} &+& x_{HW,B} &+& x_{OF,B}) \\\\\n",
    "           x_{OF,B} &\\leq& 0.6&(x_{SR,B} &+& x_{HW,B} &+& x_{OF,B}) \\\\\n",
    "           x_{OF,C} &\\leq& 0.5&(x_{SR,C} &+& x_{HW,C} &+& x_{OF,C})\n",
    "\\end{array}"
   ]
  },
  {
   "cell_type": "code",
   "execution_count": 5,
   "metadata": {},
   "outputs": [],
   "source": [
    "# Add the constraints concerning the composition requirements\n",
    "\n",
    "mylp += SR[\"A\"] >= 0.6*(SR[\"A\"] + HW[\"A\"] + OF[\"A\"])\n",
    "mylp += OF[\"A\"] <= 0.2*(SR[\"A\"] + HW[\"A\"] + OF[\"A\"])\n",
    "mylp += SR[\"B\"] >= 0.15*(SR[\"B\"] + HW[\"B\"] + OF[\"B\"])\n",
    "mylp += OF[\"B\"] <= 0.6*(SR[\"B\"] + HW[\"B\"] + OF[\"B\"])\n",
    "mylp += OF[\"C\"] <= 0.5*(SR[\"C\"] + HW[\"C\"] + OF[\"C\"])"
   ]
  },
  {
   "cell_type": "markdown",
   "metadata": {},
   "source": [
    "<b>Step 5:</b> Solve the LP and give the maximal profit. Find out how much the importer should produce of each mixture and how they are composed."
   ]
  },
  {
   "cell_type": "code",
   "execution_count": 6,
   "metadata": {},
   "outputs": [
    {
     "data": {
      "text/plain": [
       "18366.66679"
      ]
     },
     "execution_count": 6,
     "metadata": {},
     "output_type": "execute_result"
    }
   ],
   "source": [
    "# Solve the LP and give the optimal objective value (i.e. the maximal profit that can be achieved)\n",
    "\n",
    "mylp.solve()\n",
    "mylp.objective.value()"
   ]
  },
  {
   "cell_type": "code",
   "execution_count": 7,
   "metadata": {},
   "outputs": [
    {
     "name": "stdout",
     "output_type": "stream",
     "text": [
      "Produce 2544 l of mixture A according to the composition: [1527. 1018.    0.]\n",
      "Produce 3156 l of mixture B according to the composition: [ 473. 1482. 1200.]\n",
      "Produce 0 l of mixture C according to the composition: [0. 0. 0.]\n"
     ]
    }
   ],
   "source": [
    "# Print how much the importer should produce of each mixture and how they are composed\n",
    "\n",
    "import numpy as np\n",
    "for i in [\"A\",\"B\",\"C\"]:\n",
    "    m = [SR[i].value(), HW[i].value(), OF[i].value()] #mixture\n",
    "    print(\"Produce \" + str(round(sum(m))) + \" l of mixture \" + i + \\\n",
    "          \" according to the composition: \" + str(np.round(m)))\n"
   ]
  },
  {
   "cell_type": "code",
   "execution_count": null,
   "metadata": {},
   "outputs": [],
   "source": []
  }
 ],
 "metadata": {
  "kernelspec": {
   "display_name": "Python 3",
   "language": "python",
   "name": "python3"
  },
  "language_info": {
   "codemirror_mode": {
    "name": "ipython",
    "version": 3
   },
   "file_extension": ".py",
   "mimetype": "text/x-python",
   "name": "python",
   "nbconvert_exporter": "python",
   "pygments_lexer": "ipython3",
   "version": "3.7.7"
  }
 },
 "nbformat": 4,
 "nbformat_minor": 4
}
