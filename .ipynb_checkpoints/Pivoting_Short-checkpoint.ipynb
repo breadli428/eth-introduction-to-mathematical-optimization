{
 "cells": [
  {
   "cell_type": "markdown",
   "metadata": {},
   "source": [
    "## A pivoting function\n",
    "We now want to implement a function `pivot(T, i, j)` which takes in a short tableau $T$, and replaces the basis variable corresponding to row $i$ of the tableau by the variable corresponding to column $j$ of the tableau. By convention, the tableau $T$ should include the objective function row as the first row (the row with index $0$), and the right hand sides as the last column.\n",
    "\n",
    "To avoid accidental selection of a pivot from the objective function row or the column of right-hand sides, your function should check that the input indices $i$ and $j$ are indeed pointing at a potential pivot. If not, the function should print a message saying so, and return the input tableau. Similarly, if the indicated pivot element is zero (in which case the pivoting step cannot be performed), the function should print a message saying so, and return the input tableau.\n",
    "If a non-zero pivot is given, the pivoting step should be carried out, and the new tableau should be returned. Additionally, the function should print a message indicating whether or not the pivot was legal for phase II of the simplex method.\n",
    "\n",
    "Complete the given framework below to obtain the pivoting function with the desired functionality."
   ]
  },
  {
   "cell_type": "code",
   "execution_count": 1,
   "metadata": {},
   "outputs": [],
   "source": [
    "def pivot(T,i,j):\n",
    "    \n",
    "    if (i == 0 or j == T.shape[1] - 1): # Check if the indices are not pointing at a potential pivot\n",
    "        print(\"[Error] Given indices are not pointing at a potential pivot.\")\n",
    "        return T\n",
    "\n",
    "    if (T[i, j] == 0): # Check if the indicated pivot is zero\n",
    "        print(\"[Error] Given pivot is zero, step cannot be performed.\")\n",
    "        return T\n",
    "    \n",
    "    rat = []\n",
    "    flag = 0\n",
    "    for k in range(1, T.shape[0]):\n",
    "        if T[k, j] > 0:\n",
    "            rat.append(T[k, -1] / T[k, j])\n",
    "    if rat is not None and T[i, -1] / T[i, j] == min(rat):\n",
    "        flag = 1\n",
    "    if (T[0, j] < 0 and flag == 1): # Check if indicated pivot is legal for phase II of Simplex Method\n",
    "        print(\"[Info] Given pivot is legal.\")\n",
    "    else:\n",
    "         print(\"[Warning] Given pivot is illegal.\")\n",
    "    \n",
    "    # Implement pivoting step here\n",
    "    T_pivoted = np.matrix(np.zeros_like(T))\n",
    "    for m in range(T.shape[0]):\n",
    "        for n in range(T.shape[1]):\n",
    "            if m == i and n == j:\n",
    "                T_pivoted[m, n] = 1 / T[i, j]\n",
    "            elif m == i:\n",
    "                T_pivoted[m, n] = T[m, n] / T[i, j]\n",
    "            elif n == j:\n",
    "                T_pivoted[m, n] = -T[m, n] / T[i, j]\n",
    "            else:\n",
    "                T_pivoted[m, n] = T[m, n] - T[m, j] * T[i, n] / T[i, j]\n",
    "\n",
    "    return T_pivoted"
   ]
  },
  {
   "cell_type": "markdown",
   "metadata": {},
   "source": [
    "## Testing your implementation\n",
    "To check whether your implementation works, use your function to reproduce the following pivot steps from the lecture notes:\n",
    "\n",
    "![](pivoting_fig2.png)"
   ]
  },
  {
   "cell_type": "markdown",
   "metadata": {},
   "source": [
    "This can be done, for example, by running the code below:"
   ]
  },
  {
   "cell_type": "code",
   "execution_count": 6,
   "metadata": {},
   "outputs": [
    {
     "name": "stdout",
     "output_type": "stream",
     "text": [
      "[Info] Given pivot is legal.\n",
      "[[ 2.00e+02 -7.00e+02  8.40e+03]\n",
      " [-5.00e-01  3.50e+00  1.90e+01]\n",
      " [ 5.00e-01  5.00e-01  2.10e+01]\n",
      " [-7.50e-01  2.25e+00  4.50e+00]]\n"
     ]
    }
   ],
   "source": [
    "import numpy as np\n",
    "T = np.matrix([\n",
    "    [-400,-900,0],\n",
    "    [1,4,40],\n",
    "    [2,1,42],\n",
    "    [1.5,3,36]\n",
    "])\n",
    "\n",
    "T = pivot(T,2,0)\n",
    "print(T)"
   ]
  },
  {
   "cell_type": "code",
   "execution_count": null,
   "metadata": {},
   "outputs": [],
   "source": []
  }
 ],
 "metadata": {
  "kernelspec": {
   "display_name": "Python 3",
   "language": "python",
   "name": "python3"
  },
  "language_info": {
   "codemirror_mode": {
    "name": "ipython",
    "version": 3
   },
   "file_extension": ".py",
   "mimetype": "text/x-python",
   "name": "python",
   "nbconvert_exporter": "python",
   "pygments_lexer": "ipython3",
   "version": "3.7.7"
  }
 },
 "nbformat": 4,
 "nbformat_minor": 4
}
