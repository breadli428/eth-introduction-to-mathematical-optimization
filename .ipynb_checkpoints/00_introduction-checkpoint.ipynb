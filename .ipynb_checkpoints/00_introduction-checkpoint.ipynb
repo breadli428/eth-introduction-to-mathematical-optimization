{
 "cells": [
  {
   "cell_type": "markdown",
   "metadata": {},
   "source": [
    "# Jupyter Notebooks\n",
    "\n",
    "## Different kinds of cells\n",
    "\n",
    "A Jupyter Notebook consists of a sequence of cells. There are three different kind of cells:\n",
    "\n",
    "* code cells\n",
    "* markdown cells\n",
    "* raw cells\n",
    "\n",
    "At the beginning every cell is a code cell. Its type ca be changed using the drop down menu in the toolbar\n",
    "\n",
    "The content of a **code cell** or a **markdown cell** can be executed\n",
    "\n",
    "* by pressing Shift + Enter,\n",
    "* by clicking the \"Play\" button in the tool bar, or\n",
    "* by clicking \"Cell\" and then \"Run\" in the menu bar\n",
    "\n",
    "### The markdown cell\n",
    "\n",
    "* Used for documentation\n",
    "* You can create formatted text for example using the **Markdown language** or **Latex**\n",
    "\n",
    "This cell is a markdown cell!\n",
    "\n",
    "### The code cell\n",
    "\n",
    "In the code cell you can edit and write (**Python**) code. Once you run a code cell, the code it contains is executed and the potential output is shown below the respective code cell!\n",
    "\n",
    "**Use the \"Tab\"- key for code-completion**\n",
    "\n",
    "### More Information\n",
    "\n",
    "Jupyter Notebook Documentation: https://jupyter-notebook.readthedocs.io/en/stable/notebook.html#introduction\n",
    "\n",
    "A Python Tutorial: https://docs.python.org/3/tutorial/index.html\n",
    "\n",
    "Markup language for creating nice Mardown cells: https://nbviewer.jupyter.org/github/jupyter/notebook/blob/master/docs/source/examples/Notebook/Working%20With%20Markdown%20Cells.ipynb"
   ]
  },
  {
   "cell_type": "markdown",
   "metadata": {},
   "source": [
    "## Example 1\n",
    "\n",
    "Sum up all numbers from 1 to 100 and print out the solution using a for-loop. Remember that *range(a,b)* returns a list of all integers from *a to b-1*"
   ]
  },
  {
   "cell_type": "code",
   "execution_count": 1,
   "metadata": {},
   "outputs": [
    {
     "name": "stdout",
     "output_type": "stream",
     "text": [
      "5050\n"
     ]
    }
   ],
   "source": [
    "sum = 0\n",
    "for i in range(1, 101):  ##while i < 101\n",
    "    sum = sum+ i\n",
    "print(sum)"
   ]
  },
  {
   "cell_type": "markdown",
   "metadata": {},
   "source": [
    "## Example 2\n",
    "\n",
    "Print out all prime number between 2 and 100. Create a separate Python function *is_prime(number)* that checks whether a given number is prime\n"
   ]
  },
  {
   "cell_type": "code",
   "execution_count": 2,
   "metadata": {},
   "outputs": [
    {
     "name": "stdout",
     "output_type": "stream",
     "text": [
      "2\n",
      "3\n",
      "5\n",
      "7\n",
      "11\n",
      "13\n",
      "17\n",
      "19\n",
      "23\n",
      "29\n",
      "31\n",
      "37\n",
      "41\n",
      "43\n",
      "47\n",
      "53\n",
      "59\n",
      "61\n",
      "67\n",
      "71\n",
      "73\n",
      "79\n",
      "83\n",
      "89\n",
      "97\n"
     ]
    }
   ],
   "source": [
    "def is_prime(number):\n",
    "    for i in range(2,number):\n",
    "        if number % i == 0:\n",
    "            return False\n",
    "    return True\n",
    "\n",
    "for i in range(2, 101):\n",
    "    if is_prime(i) == True:\n",
    "        print(i)"
   ]
  },
  {
   "cell_type": "markdown",
   "metadata": {},
   "source": [
    "## Example 3: Solve the following LP \n",
    "\n",
    "\\begin{align*}\n",
    "    &\\text{maximize }\n",
    "    &c_1x_1 + c_2x_2\\\\\n",
    "    &\\text{s.t. } &x_1+4x_2 \\leq 3\\\\\n",
    "    &&x_1+x_2 \\leq 1\\\\\n",
    "    &&3x_1 + x_2 \\leq 2 \\\\\n",
    "    &&x_1\\geq 0\\\\\n",
    "    &&x_1\\leq 1\\\\\n",
    "    &&x_2\\geq 0\\\\\n",
    "    &&x_2\\leq 1\\\\\n",
    "\\end{align*}\n",
    "\n",
    "### Step 1: Plot the feasible region\n",
    "\n",
    "We need two additional packages! Both are included in Anaconda. If you don't use Anaconda, you might have to install these packages via the command line using \"pip\".\n",
    "\n",
    "* pip install numpy\n",
    "* pip install matplotlib\n",
    "\n",
    "**Numpy** is a package for scientific computing with Python: https://numpy.org\n",
    "\n",
    "**Matplotlip** is a Python library for 2D plotting: https://matplotlib.org\n",
    "\n",
    "A detailed description of how to plot the lines defined by the constraints of an LP is given in the comments in the code below."
   ]
  },
  {
   "cell_type": "code",
   "execution_count": 3,
   "metadata": {},
   "outputs": [
    {
     "data": {
      "text/plain": [
       "<matplotlib.legend.Legend at 0x2a820ff9e08>"
      ]
     },
     "execution_count": 3,
     "metadata": {},
     "output_type": "execute_result"
    },
    {
     "data": {
      "image/png": "[encoded data removed]",
      "text/plain": [
       "<Figure size 432x288 with 1 Axes>"
      ]
     },
     "metadata": {
      "needs_background": "light"
     },
     "output_type": "display_data"
    }
   ],
   "source": [
    "import numpy as np\n",
    "import matplotlib.pyplot as plt\n",
    "%matplotlib inline\n",
    "\n",
    "#np.linspace(start, stop, num=50) creates a list with num evenly spaced numbers over the\n",
    "#interval [start, stop]. The default value for num is 50.\n",
    "\n",
    "#Since in our example LP the variable x1 is constrained to be at least zero, we \n",
    "#create create a list of x1 values that starts at 0\n",
    "x1 = np.linspace(0,1, num=80)\n",
    "\n",
    "\n",
    "#Next we create a list of x2-values for each of the lines defined by the constraints in our LP.\n",
    "#For example x21 now contains a list of the same length as x1 containing the value (1/5)*(30-k)\n",
    "#for each value k from the list x1 \n",
    "\n",
    "#x1+4x2 = 30\n",
    "x21 = (1/4)*(3-x1) \n",
    "\n",
    "#x1+x2 = 8\n",
    "x22 = 1-x1 \n",
    "\n",
    "#3x1+x2 = 18 \n",
    "x23 = 2-3*x1 \n",
    "\n",
    "\n",
    "#Plot all three lines defined by the constraints in our LP. \n",
    "#Note that plt.plot(x1,x21) just plots all the 2-dimensional points defined by the two\n",
    "#lists x1 and x21\n",
    "\n",
    "plt.plot(x1,x21, label='$x_1+5x_2 \\leq 3$')\n",
    "plt.plot(x1,x22, label='$x_1+x_2 \\leq 1$' )\n",
    "plt.plot(x1,x23, label='$3x_1+x_2 \\leq 2$')\n",
    "\n",
    "#Here we plot the line defined by the constraint x1 >= 0, x1 <= 1, x2 >= 0 and x2 <= 1. To plot this line, we need to fix the x1 value to be zero\n",
    "#and let the x2 value range over the interval that interests us. We do this again by using the command \n",
    "#np.linspace(start, stop). Note that 0*linspace(start, stop) returns a list that only contains zeros\n",
    "#and that has the same length as linspace(start, stop)\n",
    "\n",
    "plt.plot(0*np.linspace(0,100),np.linspace(-2,100), label=\"$x_1 \\geq 0$\") \n",
    "plt.plot(np.ones(50),np.linspace(-2,100), label=\"$x_1 \\leq 1$\")\n",
    "\n",
    "plt.plot(np.linspace(-2,100),0*np.linspace(0,100), label=\"$x_2 \\geq 0$\") \n",
    "plt.plot(np.linspace(-2,100),np.ones(50), label=\"$x_2 \\leq 1$\")\n",
    "\n",
    "#Set the minimal and maximal x value of the x-axis\n",
    "plt.xlim(-0.2,1.2)\n",
    "\n",
    "#Set the minimal and maximal y value of the y-axis\n",
    "plt.ylim(-0.2,1.2)\n",
    "\n",
    "#Assign Labels to the axes\n",
    "plt.xlabel('$x_1$')\n",
    "plt.ylabel('$x_2$')\n",
    "\n",
    "#Plot the legend\n",
    "plt.legend()"
   ]
  },
  {
   "cell_type": "markdown",
   "metadata": {},
   "source": [
    "### Step 2: Import pulp\n",
    "\n",
    "**pulp** is a python package for solving linear programming problems: https://pypi.org/project/PuLP/\n",
    "\n",
    "Note: To be able to use pulp, you might need to install it first. You can do this using the terminal as follows:\n",
    "\n",
    "* conda install -c conda-forge pulp (if you use Anaconda)\n",
    "* pip install pulp\n",
    "\n",
    "In order to be able to use the pulp packages it needs to be imported first!"
   ]
  },
  {
   "cell_type": "code",
   "execution_count": null,
   "metadata": {},
   "outputs": [],
   "source": [
    "#Import the pulp package\n",
    "import pulp"
   ]
  },
  {
   "cell_type": "markdown",
   "metadata": {},
   "source": [
    "### Step 3: Create an LP using pulp\n",
    "\n",
    "We can create an LP using the command *pulp.LpProblem*. The first argument of *pulp.LpProblem* is a verbal description if the LP you create. In the second argument you say whether to maximize or minimize."
   ]
  },
  {
   "cell_type": "code",
   "execution_count": null,
   "metadata": {},
   "outputs": [],
   "source": [
    "#Create the LP. \n",
    "\n",
    "mylp = pulp.LpProblem(\"My LP\", pulp.LpMaximize)"
   ]
  },
  {
   "cell_type": "markdown",
   "metadata": {},
   "source": [
    "### Step 4: Add the variable to the LP\n",
    "\n",
    "We can create the variables for an LP using the command *pulp.LpVariable*. The first argument of *pulp.LpVariable* is the name of the variable. The (optional) argument *lowBound* assigns a lower bound to the created variable while *upBound* assigns an upper bound. The optional argument *cat* sets the category of the variable.\n",
    "It can either be Continuous, Integer or Binary. Continuous is the default"
   ]
  },
  {
   "cell_type": "code",
   "execution_count": null,
   "metadata": {},
   "outputs": [],
   "source": [
    "#Create the variables.\n",
    "\n",
    "x1 = pulp.LpVariable('x1', lowBound=0, upBound=1, cat=pulp.LpContinuous)\n",
    "x2 = pulp.LpVariable('x2', lowBound=0, upBound=1, cat=pulp.LpContinuous)"
   ]
  },
  {
   "cell_type": "markdown",
   "metadata": {},
   "source": [
    "### Step 5: Add the objective and constraints to the LP\n",
    "\n",
    "**The objective needs to be added first!!!** \n",
    "\n",
    "For this example we set $c_1=1$ and $c_2=1$."
   ]
  },
  {
   "cell_type": "code",
   "execution_count": null,
   "metadata": {},
   "outputs": [],
   "source": [
    "#Add objective\n",
    "mylp += x1+x2\n",
    "\n",
    "#Add constraints\n",
    "mylp += x1+5*x2 <= 3\n",
    "mylp += x1+x2 <= 1\n",
    "mylp += 3*x1 + x2 <= 2\n",
    "\n"
   ]
  },
  {
   "cell_type": "code",
   "execution_count": null,
   "metadata": {},
   "outputs": [],
   "source": [
    "#print the LP\n",
    "mylp"
   ]
  },
  {
   "cell_type": "markdown",
   "metadata": {},
   "source": [
    "### Step 6: Solve the LP\n",
    "\n",
    "*my_lp.solve()* returns the status of the LP after solving.\n",
    "It can be 0,1,-1,-2 or -3. The numbers mean the following:\n",
    "*  0: 'Not Solved'\n",
    "*  1: 'Optimal'\n",
    "* -1: 'Infeasible'\n",
    "* -2: 'Unbounded'\n",
    "* -3: 'Undefined'\n",
    "\n",
    "Using *pulp.status[my_lp.solve()]* returns a verbal description of the status os the LP *my_lp*"
   ]
  },
  {
   "cell_type": "code",
   "execution_count": null,
   "metadata": {},
   "outputs": [],
   "source": [
    "#Solve the LP. The status of the LP is returned\n",
    "\n",
    "mylp.solve()"
   ]
  },
  {
   "cell_type": "code",
   "execution_count": null,
   "metadata": {},
   "outputs": [],
   "source": [
    "#Print a verbal description of the status of the LP\n",
    "pulp.LpStatus[mylp.status]"
   ]
  },
  {
   "cell_type": "code",
   "execution_count": null,
   "metadata": {},
   "outputs": [],
   "source": [
    "#Print out the optimal objective value of my_lp\n",
    "mylp.objective.value()"
   ]
  },
  {
   "cell_type": "code",
   "execution_count": null,
   "metadata": {},
   "outputs": [],
   "source": [
    "#Print out an optimal vertex. my_lp.variables() returns a list of all\n",
    "#variables of my_lp. Each variable v has a value that can be accessed using\n",
    "#the command v.value()\n",
    "for v in mylp.variables():\n",
    "    print(str(v) + \" = \" + str(v.value()))"
   ]
  }
 ],
 "metadata": {
  "kernelspec": {
   "display_name": "Python 3",
   "language": "python",
   "name": "python3"
  },
  "language_info": {
   "codemirror_mode": {
    "name": "ipython",
    "version": 3
   },
   "file_extension": ".py",
   "mimetype": "text/x-python",
   "name": "python",
   "nbconvert_exporter": "python",
   "pygments_lexer": "ipython3",
   "version": "3.7.7"
  }
 },
 "nbformat": 4,
 "nbformat_minor": 4
}
