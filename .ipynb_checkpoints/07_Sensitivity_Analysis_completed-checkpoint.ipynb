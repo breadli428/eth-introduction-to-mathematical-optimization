{
 "cells": [
  {
   "cell_type": "markdown",
   "metadata": {},
   "source": [
    "# Sensitivity Analysis\n",
    "\n",
    "**Goal**: Analyse sensitivity of an optimal solution of an LP with respect to changing the parameters of the right hand side and the objective.\n",
    "\n",
    "Consider the following modification of the coal factory example:\n",
    "\n",
    "$$\\begin{equation}\n",
    "\\begin{array}\n",
    "\\\\max \\  &&22x_1 &+ &20x_2 &       &  \\\\\n",
    "  subject \\  to:   \n",
    "        & &\\frac{1}{2}x_1   &+&x_2    & \\leq  &10\\\\\n",
    "        & &x_1   &+&x_2     & \\leq  &20\\\\\n",
    "        & &\\frac{1}{12}x_1  &+&\\frac{1}{24}x_2    & \\leq  &1\\\\\n",
    "        &-&12x_1  &+&8x_2    & \\leq  &0\\\\\n",
    "        & &x_1   &  &       & \\geq  &0 \\\\\n",
    "        & &      &  &x_2    & \\geq  &0 \n",
    "\\end{array}\n",
    "\\end{equation}$$\n",
    "\n",
    "Solving the LP with the Simplex Method yields the optimal long tableau\n",
    "\n",
    "$$\\begin{equation}\n",
    "\\begin{array}{l|rrrrrrr|r}\n",
    "  & y_1 & y_2 & y_3 & y_4 & x_1 & x_2 & 1\\\\\n",
    "  \\hline\n",
    "z & 12 & 0 & 192 & 0 & 0 & 0 & 312\\\\\n",
    " \\hline\n",
    "  & -\\frac{2}{3} & 0 & 16 & 0 & 1 & 0 & \\frac{28}{3} \\\\\n",
    "  & -\\frac{2}{3} & 1 & -8 & 0 & 0 & 0 & \\frac{16}{3}\\\\\n",
    "  & \\frac{4}{3} & 0 & -8 & 0 & 0 & 1 & \\frac{16}{3}\\\\\n",
    "  & -\\frac{56}{3} & 0 & 256 & 1 & 0 & 0 & \\frac{208}{3}\n",
    "\\end{array}\n",
    "\\end{equation}$$\n",
    "\n",
    "The corresponding short tableau is\n",
    "\n",
    "$$\\begin{equation}\n",
    "\\begin{array}{l|rr|r}\n",
    "  & y_1  & y_3 & 1\\\\\n",
    "  \\hline\n",
    "z & 12 &  192 & 312\\\\\n",
    " \\hline\n",
    " x_1 & -\\frac{2}{3} & 16 & \\frac{28}{3} \\\\\n",
    " y_2 & -\\frac{2}{3} & -8 & \\frac{16}{3}\\\\\n",
    " x_2 & \\frac{4}{3} & -8 & \\frac{16}{3}\\\\\n",
    " y_4 & -\\frac{56}{3} & 256 & \\frac{208}{3}\n",
    "\\end{array}\n",
    "\\end{equation}$$\n",
    "\n",
    "Our goal is to determine how much we can change the coefficients of the objective function or the right hand sides of the constraints without changing the structure of the solution. This is known as sensitivity analysis and is described in Section 3.8 of the script."
   ]
  },
  {
   "cell_type": "markdown",
   "metadata": {},
   "source": [
    "## Task 1. Exact sensitivity analysis\n",
    "\n",
    "### Task 1.1. Right hand side coefficients $b_i$\n",
    "\n",
    "Note that the optimal solution satisfies the first and the third constraint with equality and all other constraints with strict inequality. Thus, the optimal basis is non-degenerate, so all slack variables of the tight constraints are non-basic.\n",
    "\n",
    "We are interested in the value range of each $b_i$ in which the optimal basis remains the same as for the original LP. This is known as the *sensitivity range* of $b_i$. In other words, we would like to know how much we can change each individual $b_i$ without changing the structure of the optimal solution (while keeping all the other right hand side coefficients fixed).\n",
    "\n",
    "**Your task**: Find the sensitivity ranges of $b_1$ and $b_3$. Follow the steps described on pages 62–64 of the script."
   ]
  },
  {
   "cell_type": "markdown",
   "metadata": {},
   "source": [
    "**Solution**: From the optimal tableau, we can read\n",
    "\n",
    "$$\\begin{equation}\n",
    "\\left(\n",
    "\\begin{array}{c}\n",
    " x_1 \\\\\n",
    " y_2 \\\\\n",
    " x_2 \\\\\n",
    " y_4 \n",
    "\\end{array}\n",
    "\\right)\n",
    "=\n",
    "\\left(\n",
    "\\begin{array}{c}\n",
    "\\frac{28}{3}\\\\\n",
    "\\frac{16}{3}\\\\\n",
    "\\frac{16}{3}\\\\\n",
    "\\frac{208}{3}\n",
    "\\end{array}\n",
    "\\right)\n",
    "- y_1\\left(\n",
    "\\begin{array}{c}\n",
    " -\\frac{2}{3}\\\\\n",
    " -\\frac{2}{3}\\\\\n",
    " \\frac{4}{3}\\\\\n",
    " -\\frac{56}{3}\n",
    "\\end{array}\n",
    "\\right)\n",
    "\\end{equation}$$\n",
    "\n",
    "In order for the basic solution to remain feasible, i. e. $x_1, y_2, x_2, y_4 \\geq 0$, $y_1$ should stay within the interval $[\\left(\\frac{208}{3} \\middle/ -\\frac{56}{3}\\right),\\left(\\frac{16}{3} \\middle/ \\frac{4}{3}\\right)] \\approx [-3.71,4]$.\n",
    "\n",
    "Hence we can vary $b_1$ within $[10-4,10+\\frac{26}{7}] \\approx [6,13.71]$ without changing the optimal basis."
   ]
  },
  {
   "cell_type": "markdown",
   "metadata": {},
   "source": [
    "Similarly for $y_3$, we have\n",
    "\n",
    "$$\\begin{equation}\n",
    "\\left(\n",
    "\\begin{array}{c}\n",
    " x_1 \\\\\n",
    " y_2 \\\\\n",
    " x_2 \\\\\n",
    " y_4 \n",
    "\\end{array}\n",
    "\\right)\n",
    "=\n",
    "\\left(\n",
    "\\begin{array}{c}\n",
    "\\frac{28}{3}\\\\\n",
    "\\frac{16}{3}\\\\\n",
    "\\frac{16}{3}\\\\\n",
    "\\frac{208}{3}\n",
    "\\end{array}\n",
    "\\right)\n",
    "- y_3\\left(\n",
    "\\begin{array}{c}\n",
    " 16\\\\\n",
    " -8\\\\\n",
    " -8\\\\\n",
    " 256\n",
    "\\end{array}\n",
    "\\right)\n",
    "\\end{equation}$$\n",
    "\n",
    "In order for the basic solution to remain feasible, i. e. $x_1, y_2, x_2, y_4 \\geq 0$, $y_3$ should stay within the interval $[\\left(\\frac{16}{3} \\middle/ -8\\right),\\left(\\frac{208}{3} \\middle/ 256\\right)] = [-\\frac{2}{3},\\frac{13}{48}] \\approx [-0.67,0.27]$.\n",
    "\n",
    "Hence we can vary $b_3$ within $[1-\\frac{13}{48},1+\\frac{2}{3}] \\approx [0.73,1.67]$ without changing the optimal basis."
   ]
  },
  {
   "cell_type": "markdown",
   "metadata": {},
   "source": [
    "### Task 1.2. Objective coefficients $c_i$\n",
    "\n",
    "Similar to task 1.1, we would like to know how much we can change each coefficient $c_i$ of the objective without changing the optimal solution. In other words, we are interested in the *sensitivity range* of each $c_i$.\n",
    "\n",
    "**Your task**: Find the sensitivity ranges of $c_1$ and $c_2$.  Follow the steps described on pages 64–66 of the script."
   ]
  },
  {
   "cell_type": "markdown",
   "metadata": {},
   "source": [
    "**Solution**: Dual reading gives\n",
    "\n",
    "$$\\begin{equation}\n",
    "\\begin{array}\n",
    "  \\ y_1 &= &12 & -&   \\frac{2}{3}x_1  \\\\\n",
    "  y_3 &= &192   & +& 16x_1\n",
    "\\end{array}\n",
    "\\end{equation}$$\n",
    "\n",
    "The dual values $y_1$ and $y_3$ stay feasible, i. e. $y_1 \\geq 0$ and $y_3 \\geq 0$, as long as $x_1 \\in [-12,18]$.\n",
    "\n",
    "Hence $x^*$ stays optimal as long as $c_1 \\in [22-12,22+18] = [10,40]$.\n",
    "\n",
    "Similarly for $c_2$, we have\n",
    "\n",
    "$$\\begin{equation}\n",
    "\\begin{array}\n",
    "  \\ y_1 &= &12 & +&   \\frac{4}{3}x_2  \\\\\n",
    "  y_3 &= &192   & -& 8x_2\n",
    "\\end{array}\n",
    "\\end{equation}$$\n",
    "\n",
    "Hence $x^*$ stays optimal as long as $c_2 \\in [20-9,20+24] = [11,44]$."
   ]
  },
  {
   "cell_type": "markdown",
   "metadata": {},
   "source": [
    "## Task 2. Numerical sensitivity analysis\n",
    "\n",
    "Now our goal is to perform the sensitivity analysis numerically.\n",
    "\n",
    "### Task 2.1. Solve original LP\n",
    "\n",
    "**Your task**: Solve the original LP with `pulp`."
   ]
  },
  {
   "cell_type": "code",
   "execution_count": 1,
   "metadata": {},
   "outputs": [
    {
     "name": "stdout",
     "output_type": "stream",
     "text": [
      "The optimal solution is (9.3,5.3) with objective value 312.0.\n"
     ]
    }
   ],
   "source": [
    "import pulp\n",
    "import numpy as np\n",
    "\n",
    "# Create the LP\n",
    "mylp = pulp.LpProblem(\"My LP\", pulp.LpMaximize)\n",
    "\n",
    "# Create the variables\n",
    "x1 = pulp.LpVariable('x1', lowBound=0, cat=pulp.LpContinuous)\n",
    "x2 = pulp.LpVariable('x2', lowBound=0, cat=pulp.LpContinuous)\n",
    "\n",
    "# Add the objective function\n",
    "mylp += 22*x1 + 20*x2\n",
    "\n",
    "# Add the constraints\n",
    "mylp += 1/2*x1 + x2 <= 10\n",
    "mylp += x1 + x2 <= 20\n",
    "mylp += 1/12*x1 + 1/24*x2 <= 1\n",
    "mylp += -12*x1 + 8*x2 <= 0\n",
    "\n",
    "# Solve the LP\n",
    "mylp.solve()\n",
    "print(f\"The optimal solution is ({x1.value():.1f},{x2.value():.1f}) with objective value {mylp.objective.value():.1f}.\")"
   ]
  },
  {
   "cell_type": "markdown",
   "metadata": {},
   "source": [
    "### Task 2.2. Function to find tight constraints\n",
    "\n",
    "To see if the structure of the optimal solution has changed or remained the same after we changed one of the coefficients, we need to be able to find all the tight constraints with respect to the new optimal solution. Since this step will be repeated many times, we will write a function to perfrom it.\n",
    "\n",
    "**Your task**: Implement a function that takes a solved LpProblem 'mylp' as the input and returns the the list of indices of constraints that are tight with respect to the optimal solution."
   ]
  },
  {
   "cell_type": "code",
   "execution_count": 2,
   "metadata": {},
   "outputs": [],
   "source": [
    "# Define the function here\n",
    "def get_tight_constraints(mylp):\n",
    "    indices = []\n",
    "    tol = 10**(-6)\n",
    "    for i in range(1,5):\n",
    "        if abs(mylp.constraints['_C'+str(i)].value()) <= tol:\n",
    "            indices.append(i)\n",
    "    return(indices)"
   ]
  },
  {
   "cell_type": "markdown",
   "metadata": {},
   "source": [
    "Test your function on the original instance. We will often refer to the list of tight constraints with respect to the original optimal solution in the future, so you should save the result for later use."
   ]
  },
  {
   "cell_type": "code",
   "execution_count": 3,
   "metadata": {},
   "outputs": [
    {
     "name": "stdout",
     "output_type": "stream",
     "text": [
      "[1, 3]\n"
     ]
    }
   ],
   "source": [
    "# Test the function here\n",
    "tightC = get_tight_constraints(mylp)\n",
    "print(tightC)  # Expected output: [1, 3]"
   ]
  },
  {
   "cell_type": "markdown",
   "metadata": {},
   "source": [
    "### Task 2.3. Compute sensitivity ranges\n",
    "\n",
    "**Your task**: Numerically determine the sensitivity ranges of $b_1$, $b_3$, $c_1$, and $c_2$. We outline the plan using the lower bound on $b_1$ as an example.\n",
    "\n",
    "#### Sensitivity range of $b_1$\n",
    "\n",
    "First, find a value of $b_1$ that lies below the lower bound of the sensitivity range, i.e., a sufficiently small $b_1$ for which the optimal basis is not the same as for the original optimal solution."
   ]
  },
  {
   "cell_type": "code",
   "execution_count": 4,
   "metadata": {},
   "outputs": [
    {
     "name": "stdout",
     "output_type": "stream",
     "text": [
      "[1]\n"
     ]
    }
   ],
   "source": [
    "# Find a lower bound here\n",
    "b1_min = 5\n",
    "mylp.constraints['_C1'].changeRHS(b1_min)\n",
    "mylp.solve()\n",
    "print(get_tight_constraints(mylp)) # does not contain tightC = [1, 3]"
   ]
  },
  {
   "cell_type": "markdown",
   "metadata": {},
   "source": [
    "Now, iteratively increase $b_1$ starting with the value you found above until you get to a point that satisfies the same (and maybe more) constraints as the original optimal solution with equality. This is the lower end of the sensitivity range. We recommend to use the increment of `0.01`.\n",
    "\n",
    "Note that the closer your starting value to the lower end of the sensitivity range, the better. More specifically, it will take fewer iterations to find the endpoint or the answer can be computed with higher precision in the same amount of time."
   ]
  },
  {
   "cell_type": "code",
   "execution_count": 5,
   "metadata": {},
   "outputs": [
    {
     "name": "stdout",
     "output_type": "stream",
     "text": [
      "The lower bound of the range for b1 is 6.00\n"
     ]
    }
   ],
   "source": [
    "# Find the endpoint of the sensitivity range here\n",
    "\n",
    "# For convenience, we use the following function to determine\n",
    "# if a set of constraints given by an index list\n",
    "# is a subset of the set of tight constraints of an LP\n",
    "def is_subset(mylp, index_list):\n",
    "    tight = get_tight_constraints(mylp)\n",
    "    return set(index_list).issubset(set(tight))\n",
    "\n",
    "inside = False\n",
    "while not inside:\n",
    "    b1_min += 0.01\n",
    "    mylp.constraints['_C1'].changeRHS(b1_min)\n",
    "    mylp.solve()\n",
    "    inside = is_subset(mylp, tightC)\n",
    "print(f'The lower bound of the range for b1 is {b1_min:.2f}')"
   ]
  },
  {
   "cell_type": "markdown",
   "metadata": {},
   "source": [
    "Finally, complete the numerical sensitivity analysis by finding the upper bound on $b_1$ and the sensitivity ranges of $b_3$, $c_1$, and $c_2$. Note that you will need to modify the plan used above in some cases.\n",
    "\n",
    "If you notice a repeating section of code, feel free to make a new function out of it."
   ]
  },
  {
   "cell_type": "code",
   "execution_count": 6,
   "metadata": {},
   "outputs": [],
   "source": [
    "# As we repeatedly use a similar idea, we define a general function to find the boundary\n",
    "def find_range_endpoint(mylp, coef = 'b', index = 1, start = 5, step = 0.01):\n",
    "    tightC = get_tight_constraints(mylp)\n",
    "    val = start\n",
    "    inside = False\n",
    "    while not inside:\n",
    "        val += step\n",
    "        mylp = change_LP(mylp, coef, index, val)\n",
    "        inside = is_subset(mylp, tightC)\n",
    "    mylp = change_LP(mylp, coef, index) # reset the LP\n",
    "    return val\n",
    "\n",
    "def change_LP(mylp, coef, index, value = None):\n",
    "    if value == None: # reset the LP\n",
    "        value = {'b': [10,20,1,0], 'c': [22,20]}[coef][index-1]\n",
    "    if coef == 'b':\n",
    "        mylp.constraints[f'_C{index}'].changeRHS(value)\n",
    "    elif coef == 'c':\n",
    "        mylp.objective[{1: x1, 2: x2}[index]] = value\n",
    "    mylp.solve()\n",
    "    return mylp"
   ]
  },
  {
   "cell_type": "code",
   "execution_count": 7,
   "metadata": {},
   "outputs": [
    {
     "name": "stdout",
     "output_type": "stream",
     "text": [
      "The coefficient b1 varies between 6.00 and 13.71\n"
     ]
    }
   ],
   "source": [
    "# Find the other endpoint of the sensitivity range of b_1 here\n",
    "b1_min = find_range_endpoint(mylp = mylp, coef = 'b', index = 1, start = 5, step = 0.01)\n",
    "b1_max = find_range_endpoint(mylp = mylp, coef = 'b', index = 1, start = 15, step = -0.01)\n",
    "print(f\"The coefficient b1 varies between {b1_min:.2f} and {b1_max:.2f}\")"
   ]
  },
  {
   "cell_type": "markdown",
   "metadata": {},
   "source": [
    "#### Sensitivity range of $b_3$"
   ]
  },
  {
   "cell_type": "code",
   "execution_count": 8,
   "metadata": {},
   "outputs": [
    {
     "name": "stdout",
     "output_type": "stream",
     "text": [
      "The coefficient b3 varies between 0.73 and 1.66\n"
     ]
    }
   ],
   "source": [
    "# Find the sensitivity range of b_3 here\n",
    "b3_min = find_range_endpoint(mylp = mylp, coef = 'b', index = 3, start = 0, step = 0.01)\n",
    "b3_max = find_range_endpoint(mylp = mylp, coef = 'b', index = 3, start = 5, step = -0.01)\n",
    "print(f\"The coefficient b3 varies between {b3_min:.2f} and {b3_max:.2f}\")"
   ]
  },
  {
   "cell_type": "markdown",
   "metadata": {},
   "source": [
    "#### Sensitivity range of $c_1$"
   ]
  },
  {
   "cell_type": "code",
   "execution_count": 9,
   "metadata": {},
   "outputs": [
    {
     "name": "stdout",
     "output_type": "stream",
     "text": [
      "The coefficient c1 varies between 10 and 40\n"
     ]
    }
   ],
   "source": [
    "# Find the sensitivity range of c_1 here\n",
    "c1_min = find_range_endpoint(mylp = mylp, coef = 'c', index = 1, start = 0, step = 0.1)\n",
    "c1_max = find_range_endpoint(mylp = mylp, coef = 'c', index = 1, start = 50, step = -0.1)\n",
    "print(f\"The coefficient c1 varies between {c1_min:.0f} and {c1_max:.0f}\")"
   ]
  },
  {
   "cell_type": "markdown",
   "metadata": {},
   "source": [
    "#### Sensitivity range of $c_2$"
   ]
  },
  {
   "cell_type": "code",
   "execution_count": 10,
   "metadata": {},
   "outputs": [
    {
     "name": "stdout",
     "output_type": "stream",
     "text": [
      "The coefficient c2 varies between 11 and 44\n"
     ]
    }
   ],
   "source": [
    "# Find the sensitivity range of c_2 here\n",
    "c2_min = find_range_endpoint(mylp = mylp, coef = 'c', index = 2, start = 0, step = 0.1)\n",
    "c2_max = find_range_endpoint(mylp = mylp, coef = 'c', index = 2, start = 50, step = -0.1)\n",
    "print(f\"The coefficient c2 varies between {c2_min:.0f} and {c2_max:.0f}\")"
   ]
  },
  {
   "cell_type": "code",
   "execution_count": null,
   "metadata": {},
   "outputs": [],
   "source": []
  }
 ],
 "metadata": {
  "kernelspec": {
   "display_name": "Python 3",
   "language": "python",
   "name": "python3"
  },
  "language_info": {
   "codemirror_mode": {
    "name": "ipython",
    "version": 3
   },
   "file_extension": ".py",
   "mimetype": "text/x-python",
   "name": "python",
   "nbconvert_exporter": "python",
   "pygments_lexer": "ipython3",
   "version": "3.7.7"
  }
 },
 "nbformat": 4,
 "nbformat_minor": 4
}
