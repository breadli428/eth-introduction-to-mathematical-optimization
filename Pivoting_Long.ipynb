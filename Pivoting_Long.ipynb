{
 "cells": [
  {
   "cell_type": "markdown",
   "metadata": {},
   "source": [
    "# The Simplex Method\n",
    "\n",
    "**Goal**: Solve an LP using the 2-phase simplex algorithm.\n"
   ]
  },
  {
   "cell_type": "code",
   "execution_count": 1,
   "metadata": {},
   "outputs": [],
   "source": [
    "# You're given the pivot function from last weeks programming assignment\n",
    "import numpy as np\n",
    "\n",
    "def pivot(T,i,k):\n",
    "    T_pivot = np.copy(T)\n",
    "    T_pivot[i,:] = T[i,:] / T[i,k] #Step (i)\n",
    "    for l in range(0,T.shape[1]): #Step (ii)\n",
    "        for j in range(0,T.shape[0]):\n",
    "            if(j!=i):\n",
    "                T_pivot[j,l] = T[j,l] - T[j,k] * T[i,l] / T[i,k]\n",
    "    return T_pivot\n"
   ]
  },
  {
   "cell_type": "code",
   "execution_count": 2,
   "metadata": {},
   "outputs": [],
   "source": [
    "# Write down the tableau of the auxiliary LP\n",
    "\n",
    "T = np.array([\n",
    "    [0, 0, 0, 0, 0, 0, 0, 1, 0],\n",
    "    [1, 0, 0, 0, 0, 1, 3,-1,15],\n",
    "    [0, 1, 0, 0, 0, 3,-1,-1,-6],\n",
    "    [0, 0, 1, 0, 0, 1, 0,-1, 4],\n",
    "    [0, 0, 0, 1, 0, 2, 1,-1,10],\n",
    "    [0, 0, 0, 0, 1,-1,-1,-1,-3]\n",
    "], dtype=float)\n"
   ]
  },
  {
   "cell_type": "code",
   "execution_count": 3,
   "metadata": {
    "scrolled": true
   },
   "outputs": [
    {
     "name": "stdout",
     "output_type": "stream",
     "text": [
      "[[ 0.  1.  0.  0.  0.  3. -1.  0. -6.]\n",
      " [ 1. -1.  0.  0.  0. -2.  4.  0. 21.]\n",
      " [-0. -1. -0. -0. -0. -3.  1.  1.  6.]\n",
      " [ 0. -1.  1.  0.  0. -2.  1.  0. 10.]\n",
      " [ 0. -1.  0.  1.  0. -1.  2.  0. 16.]\n",
      " [ 0. -1.  0.  0.  1. -4.  0.  0.  3.]]\n"
     ]
    }
   ],
   "source": [
    "# Perform an exchange step on the tableau, such that the resulting tableau is feasible\n",
    "\n",
    "T = pivot(T,2,7) # exchange x_0 and y_2, i. e. pivot on position (3,8)\n",
    "print(T)"
   ]
  },
  {
   "cell_type": "code",
   "execution_count": null,
   "metadata": {},
   "outputs": [],
   "source": []
  },
  {
   "cell_type": "code",
   "execution_count": 4,
   "metadata": {},
   "outputs": [],
   "source": [
    "T = np.array([\n",
    "    [0, 0, 0, 0, -3, -1, 0],\n",
    "    [1, 0, 0, 0, -1, -1, -1],\n",
    "    [0, 1, 0, 0, 2, -1, 4],\n",
    "    [0, 0, 1, 0, 1, 2, 7],\n",
    "    [0, 0, 0, 1, -1, 1, 2]\n",
    "], dtype=float)"
   ]
  },
  {
   "cell_type": "code",
   "execution_count": 5,
   "metadata": {},
   "outputs": [
    {
     "name": "stdout",
     "output_type": "stream",
     "text": [
      "[[-3.  0.  0.  0.  0.  2.  3.]\n",
      " [-1. -0. -0. -0.  1.  1.  1.]\n",
      " [ 2.  1.  0.  0.  0. -3.  2.]\n",
      " [ 1.  0.  1.  0.  0.  1.  6.]\n",
      " [-1.  0.  0.  1.  0.  2.  3.]]\n"
     ]
    }
   ],
   "source": [
    "T = pivot(T,1,4)\n",
    "print(T)"
   ]
  },
  {
   "cell_type": "code",
   "execution_count": 6,
   "metadata": {},
   "outputs": [
    {
     "name": "stdout",
     "output_type": "stream",
     "text": [
      "[[ 0.   1.5  0.   0.   0.  -2.5  6. ]\n",
      " [ 0.   0.5  0.   0.   1.  -0.5  2. ]\n",
      " [ 1.   0.5  0.   0.   0.  -1.5  1. ]\n",
      " [ 0.  -0.5  1.   0.   0.   2.5  5. ]\n",
      " [ 0.   0.5  0.   1.   0.   0.5  4. ]]\n"
     ]
    }
   ],
   "source": [
    "T = pivot(T,2,0)\n",
    "print(T)"
   ]
  },
  {
   "cell_type": "code",
   "execution_count": 7,
   "metadata": {},
   "outputs": [
    {
     "name": "stdout",
     "output_type": "stream",
     "text": [
      "[[ 0.   1.   1.   0.   0.   0.  11. ]\n",
      " [ 0.   0.4  0.2  0.   1.   0.   3. ]\n",
      " [ 1.   0.2  0.6  0.   0.   0.   4. ]\n",
      " [ 0.  -0.2  0.4  0.   0.   1.   2. ]\n",
      " [ 0.   0.6 -0.2  1.   0.   0.   3. ]]\n"
     ]
    }
   ],
   "source": [
    "T = pivot(T,3,5)\n",
    "print(T)"
   ]
  },
  {
   "cell_type": "code",
   "execution_count": 8,
   "metadata": {},
   "outputs": [
    {
     "name": "stdout",
     "output_type": "stream",
     "text": [
      "[[ nan  nan  nan  nan  nan  nan  nan]\n",
      " [ nan  inf  inf  nan  inf  nan  inf]\n",
      " [ nan  nan  nan  nan  nan  nan  nan]\n",
      " [ nan -inf -inf  nan -inf  nan -inf]\n",
      " [ nan  nan  nan  nan  nan  nan  nan]]\n"
     ]
    },
    {
     "name": "stderr",
     "output_type": "stream",
     "text": [
      "D:\\Anaconda3\\lib\\site-packages\\ipykernel_launcher.py:6: RuntimeWarning: divide by zero encountered in true_divide\n",
      "  \n",
      "D:\\Anaconda3\\lib\\site-packages\\ipykernel_launcher.py:6: RuntimeWarning: invalid value encountered in true_divide\n",
      "  \n",
      "D:\\Anaconda3\\lib\\site-packages\\ipykernel_launcher.py:10: RuntimeWarning: invalid value encountered in double_scalars\n",
      "  # Remove the CWD from sys.path while we load stuff.\n",
      "D:\\Anaconda3\\lib\\site-packages\\ipykernel_launcher.py:10: RuntimeWarning: divide by zero encountered in double_scalars\n",
      "  # Remove the CWD from sys.path while we load stuff.\n"
     ]
    }
   ],
   "source": [
    "T = pivot(T,1,5)\n",
    "print(T)"
   ]
  },
  {
   "cell_type": "code",
   "execution_count": null,
   "metadata": {},
   "outputs": [],
   "source": []
  },
  {
   "cell_type": "code",
   "execution_count": null,
   "metadata": {},
   "outputs": [],
   "source": []
  },
  {
   "cell_type": "code",
   "execution_count": 9,
   "metadata": {},
   "outputs": [
    {
     "name": "stdout",
     "output_type": "stream",
     "text": [
      "[[ 0.  0.  0. -1. -1.  0.  3.]\n",
      " [ 1.  0.  0.  3. -2.  0.  6.]\n",
      " [ 0.  1.  0.  0.  1.  0.  4.]\n",
      " [ 0.  0.  1.  1.  1.  0.  7.]\n",
      " [-0. -0. -0. -1.  1.  1.  3.]]\n"
     ]
    }
   ],
   "source": [
    "# Redo phase I, but this time already keep track of the original objective\n",
    "\n",
    "T = np.array([\n",
    "    [0, 0, 0, 0, 0, 0, 1, 0],\n",
    "    [0, 0, 0, 0,-2,-1, 0, 0], # simply add the original objective row from the beginning\n",
    "    [1, 0, 0, 0, 1, 3,-1,15],\n",
    "    [0, 1, 0, 0, 1, 0,-1, 4],\n",
    "    [0, 0, 1, 0, 2, 1,-1,10],\n",
    "    [0, 0, 0, 1,-1,-1,-1,-3]\n",
    "], dtype=float)\n",
    "T = pivot(T,5,6)\n",
    "T = pivot(T,5,5)\n",
    "T = np.delete(T,6,1) # delete column corresponding to x0\n",
    "T = np.delete(T,0,0) # delete auxiliary objective row\n",
    "print(T)"
   ]
  },
  {
   "cell_type": "code",
   "execution_count": 17,
   "metadata": {},
   "outputs": [
    {
     "name": "stdout",
     "output_type": "stream",
     "text": [
      "[[  1.5   0.    0.    0.  -10.   -9. ]\n",
      " [ -0.5  -0.   -0.    1.    2.    3. ]\n",
      " [ -0.5   1.    0.    0.    3.    4. ]\n",
      " [ -0.5   0.    1.    0.    4.   11. ]]\n"
     ]
    }
   ],
   "source": [
    "T = np.array([\n",
    "    [0, 0, 0, 3, -4, 0],\n",
    "    [1, 0, 0, -2,-4, -6], # simply add the original objective row from the beginning\n",
    "    [0, 1, 0, -1, 1, 1],\n",
    "    [0, 0, 1, -1, 2, 8]\n",
    "], dtype=float)\n",
    "\n",
    "T = pivot(T,1,3)\n",
    "print(T)"
   ]
  },
  {
   "cell_type": "code",
   "execution_count": 18,
   "metadata": {
    "scrolled": true
   },
   "outputs": [
    {
     "name": "stdout",
     "output_type": "stream",
     "text": [
      "[[-0.16666667  3.33333333  0.          0.          0.          4.33333333]\n",
      " [-0.16666667 -0.66666667 -0.          1.          0.          0.33333333]\n",
      " [-0.16666667  0.33333333  0.          0.          1.          1.33333333]\n",
      " [ 0.16666667 -1.33333333  1.          0.          0.          5.66666667]]\n"
     ]
    }
   ],
   "source": [
    "T = pivot(T,2,4)\n",
    "print(T)"
   ]
  },
  {
   "cell_type": "code",
   "execution_count": 19,
   "metadata": {
    "scrolled": true
   },
   "outputs": [
    {
     "name": "stdout",
     "output_type": "stream",
     "text": [
      "[[ 0.  2.  1.  0.  0. 10.]\n",
      " [ 0. -2.  1.  1.  0.  6.]\n",
      " [ 0. -1.  1.  0.  1.  7.]\n",
      " [ 1. -8.  6.  0.  0. 34.]]\n"
     ]
    }
   ],
   "source": [
    "T = pivot(T,3,0)\n",
    "print(T)"
   ]
  },
  {
   "cell_type": "code",
   "execution_count": 20,
   "metadata": {},
   "outputs": [
    {
     "name": "stdout",
     "output_type": "stream",
     "text": [
      "[[ 0.33333333  0.          0.         -0.66666667  0.          1.66666667]\n",
      " [ 5.66666667  0.          1.         -0.33333333  0.          6.33333333]\n",
      " [10.33333333  0.          0.          1.33333333  1.          1.66666667]\n",
      " [ 0.33333333  1.          0.          0.33333333  0.          0.66666667]]\n"
     ]
    }
   ],
   "source": [
    "T = np.array([\n",
    "    [1, 2, 0, 0, 0, 3],\n",
    "    [6, 1, 1, 0,0, 7], # simply add the original objective row from the beginning\n",
    "    [9, -4, 0, 0, 1, -1],\n",
    "    [1, 3, 0, 1, 0, 2]\n",
    "], dtype=float)\n",
    "\n",
    "T = pivot(T,3,1)\n",
    "print(T)"
   ]
  },
  {
   "cell_type": "code",
   "execution_count": null,
   "metadata": {},
   "outputs": [],
   "source": []
  },
  {
   "cell_type": "code",
   "execution_count": null,
   "metadata": {},
   "outputs": [],
   "source": []
  }
 ],
 "metadata": {
  "kernelspec": {
   "display_name": "Python 3",
   "language": "python",
   "name": "python3"
  },
  "language_info": {
   "codemirror_mode": {
    "name": "ipython",
    "version": 3
   },
   "file_extension": ".py",
   "mimetype": "text/x-python",
   "name": "python",
   "nbconvert_exporter": "python",
   "pygments_lexer": "ipython3",
   "version": "3.7.7"
  }
 },
 "nbformat": 4,
 "nbformat_minor": 4
}
