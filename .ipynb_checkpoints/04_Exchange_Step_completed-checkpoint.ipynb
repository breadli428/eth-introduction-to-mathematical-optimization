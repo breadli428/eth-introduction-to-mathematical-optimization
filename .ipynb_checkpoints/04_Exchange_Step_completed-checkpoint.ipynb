{
 "cells": [
  {
   "cell_type": "markdown",
   "metadata": {},
   "source": [
    "# Exchange Step\n",
    "\n",
    "**Goal**: Implement the exchange step on a simple example using `numpy`. If you're not familiar with `numpy`, there's a basic tutorial on `moodle`.\n",
    "\n",
    "You are given the following LP in canonical form:\n",
    "\n",
    "$$\\begin{equation}\n",
    "\\begin{array}\n",
    "\\\\max \\  z=&4 x_1 &+ &9 x_2, &       &  \\\\\n",
    "  subject \\  to:    &x_1     &+ &4 x_2   & \\leq  &40\\\\\n",
    "         &2x_1    &+ & x_2    & \\leq  &42\\\\\n",
    "         &1.5x_1  &+ &3x_2    & \\leq  &36\\\\\n",
    "         &x_1     &  &        & \\geq  &0 \\\\\n",
    "         &        &  &x_2     & \\geq  &0 \\\\\n",
    "\\end{array}\n",
    "\\end{equation}$$\n",
    "\n",
    "\n",
    "Your task is to implement a function that performs a pivoting step on the element in the $i$-th row and $j$-th column of the tableau $T$.<br>\n",
    "To get the tableau $T$ you first need to convert the LP into standard form:\n",
    "\n",
    "\n",
    "$$\\begin{equation}\n",
    "\\begin{array}\n",
    "\\\\max \\  z=       &    & &    & &    & &4 x_1   &+ &9 x_2,  &       &  \\\\\n",
    "  subject \\  to:  &y_1 &+&    & &    & &x_1     &+ &4 x_2   & =     &40\\\\\n",
    "                  &    & &y_2 &+&    & &2x_1    &+ & x_2    & =     &42\\\\\n",
    "                  &    & &    & &y_3 &+&1.5x_1  &+ &3x_2    & =     &36\\\\\n",
    "                  &    & &    & &    & &x_1     &  &        & \\geq  &0 \\\\\n",
    "                  &    & &    & &    & &        &  &x_2     & \\geq  &0 \\\\\n",
    "                  &y_1 & &    & &    & &        &  &        & \\geq  &0 \\\\\n",
    "                  &    & &y_2 & &    & &        &  &        & \\geq  &0 \\\\\n",
    "                  &    & &    & &y_3 & &        &  &        & \\geq  &0 \\\\\n",
    "\\end{array}\n",
    "\\end{equation}$$\n",
    "\n",
    "From this you can construct the tableau:\n",
    "\n",
    "$$\\begin{equation}\n",
    "\\begin{array}{l|rrrrr|r}\n",
    "  & y_1 & y_2 & y_3 & x_1 & x_2 & 1\\\\\n",
    "  \\hline\n",
    " z & 0 & 0 & 0 & -4 & -9 & 0\\\\\n",
    " \\hline\n",
    "  & 1 & 0 & 0 & 1 & 4 & 40\\\\\n",
    "  & 0 & 1 & 0 & 2 & 1 & 42\\\\\n",
    "  & 0 & 0 & 1 & 1.5 & 3 & 36\n",
    "\\end{array}\n",
    "\\end{equation}$$"
   ]
  },
  {
   "cell_type": "code",
   "execution_count": 1,
   "metadata": {},
   "outputs": [],
   "source": [
    "import numpy as np\n",
    "#Define Tableau\n",
    "T = np.matrix([\n",
    "    [0, 0, 0,  -4, -9, 0 ],\n",
    "    [1, 0, 0,   1,  4, 40],\n",
    "    [0, 1, 0,   2,  1, 42],\n",
    "    [0, 0, 1, 1.5,  3, 36]\n",
    "])"
   ]
  },
  {
   "cell_type": "markdown",
   "metadata": {},
   "source": [
    "## Task 1\n",
    "\n",
    "### Exchange Step\n",
    "\n",
    "The entries of the new tableau are given in the lecture notes and the computation goes as follows:\n",
    "\n",
    "$$\\begin{equation}\n",
    "\\begin{array}\n",
    "((i) & a'_{il} = \\frac{a_{il}}{a_{ik}} & l=1,...,n+m &\\\\\n",
    "(ii) & a'_{jl} = a_{jl} - \\frac{ a_{jk}a_{il}}{a_{ik}} & l=1,...,n+m & j \\neq i, j=1,...,m\n",
    "\\end{array}\n",
    "\\end{equation}$$"
   ]
  },
  {
   "cell_type": "code",
   "execution_count": 2,
   "metadata": {},
   "outputs": [],
   "source": [
    "def pivot(T,i,k):\n",
    "    #Create a copy of the tableau\n",
    "    T_pivot = np.copy(T)\n",
    "    \n",
    "    #Step (i)\n",
    "    #We divide the i-th row elementwise by the value of a_ik\n",
    "    T_pivot[i,:] = T[i,:] / T[i,k]\n",
    "    \n",
    "    #Step (ii)\n",
    "    #Note: for-loops can be interchanged\n",
    "    #We iterate through each column (l = 1,...,n+m)\n",
    "    for l in range(0,T.shape[1]):\n",
    "        #In the column we iterate through each row, but skip row i (j=/=i,j=1,...,m)\n",
    "        for j in range(0,T.shape[0]):\n",
    "            if(j!=i):\n",
    "                #We compute the new value\n",
    "                T_pivot[j,l] = T[j,l] - T[j,k] * T[i,l] / T[i,k]\n",
    "    \n",
    "    return T_pivot"
   ]
  },
  {
   "cell_type": "markdown",
   "metadata": {},
   "source": [
    "### Testing\n",
    "To see if your implementation works compare it with the result you get doing it by hand."
   ]
  },
  {
   "cell_type": "code",
   "execution_count": 3,
   "metadata": {},
   "outputs": [
    {
     "data": {
      "text/plain": [
       "array([[   0. ,    9. ,    0. ,   14. ,    0. ,  378. ],\n",
       "       [   1. ,   -4. ,    0. ,   -7. ,    0. , -128. ],\n",
       "       [   0. ,    1. ,    0. ,    2. ,    1. ,   42. ],\n",
       "       [   0. ,   -3. ,    1. ,   -4.5,    0. ,  -90. ]])"
      ]
     },
     "execution_count": 3,
     "metadata": {},
     "output_type": "execute_result"
    }
   ],
   "source": [
    "#Testing with a pivot at position (3,5).\n",
    "pivot(T,2,4)"
   ]
  },
  {
   "cell_type": "markdown",
   "metadata": {},
   "source": [
    "If we perform the calculations by hand, pivoting on the element (3,5) leads to the following tableau:\n",
    "\n",
    "$$\\begin{equation}\n",
    "\\begin{array}{l|rrrrr|r}\n",
    "  & y_1 & y_2 & y_3 & x_1 & x_2 & 1\\\\\n",
    "  \\hline\n",
    "z & 0 & 9 & 0 & 14 & 0 & 378\\\\\n",
    "\\hline\n",
    "  & 1 & -4 & 0 & -7 & 0 & -128\\\\\n",
    "  & 0 & 1 & 0 & 2 & 1 & 42\\\\\n",
    "  & 0 & -3 & 1 & -4.5 & 0 & -90\n",
    "\\end{array}\n",
    "\\end{equation}$$\n",
    "\n",
    "We subtracted the third row 4 times from the second row and 3 times from the forth row."
   ]
  },
  {
   "cell_type": "markdown",
   "metadata": {},
   "source": [
    "## Task 2\n",
    "\n",
    "Solve the problem using the pivoting function you implemented and compare your result with the result you get with `pulp`."
   ]
  },
  {
   "cell_type": "markdown",
   "metadata": {},
   "source": [
    "### Solution via `pulp`"
   ]
  },
  {
   "cell_type": "code",
   "execution_count": 4,
   "metadata": {},
   "outputs": [
    {
     "name": "stdout",
     "output_type": "stream",
     "text": [
      "Solution obtained with pulp:\n",
      "104.0\n",
      "x1 = 8.0\n",
      "x2 = 8.0\n"
     ]
    }
   ],
   "source": [
    "import pulp\n",
    "\n",
    "#Create the LP\n",
    "mylp = pulp.LpProblem(\"ExchangeStep\", pulp.LpMaximize)\n",
    "\n",
    "#Create the variables\n",
    "x1 = pulp.LpVariable('x1', lowBound=0, cat=pulp.LpContinuous)\n",
    "x2 = pulp.LpVariable('x2', lowBound=0, cat=pulp.LpContinuous)\n",
    "\n",
    "#Add the objective function\n",
    "mylp += 4*x1 + 9*x2\n",
    "\n",
    "#Add the constraints\n",
    "mylp += x1 + 4*x2 <= 40\n",
    "mylp += 2*x1 + x2 <= 42\n",
    "mylp += 1.5*x1 + 3*x2 <= 36\n",
    "\n",
    "mylp.solve()\n",
    "print(\"Solution obtained with pulp:\")\n",
    "#Print out the optimal objective value of my_lp\n",
    "print(mylp.objective.value())\n",
    "#Print out optimal vertex.\n",
    "for v in mylp.variables():\n",
    "    print(str(v) + \" = \" + str(v.value()))"
   ]
  },
  {
   "cell_type": "markdown",
   "metadata": {},
   "source": [
    "### Manual solution\n",
    "\n",
    "We first pivot on the element (2,5) and then on the element (4,4). Note that both pivots are valid (Theorem 2.4 in the lecture notes).<br>\n",
    "After we have done the two steps, we see that we only have positive values the first row. Therefore any further exchange step would only lower the objective value.<br>\n",
    "We have found an optimal solution that is consistent with the one obtained with pulp."
   ]
  },
  {
   "cell_type": "code",
   "execution_count": 5,
   "metadata": {},
   "outputs": [
    {
     "name": "stdout",
     "output_type": "stream",
     "text": [
      "Tableau after the first pivot:\n",
      "[[ 2.25  0.    0.   -1.75  0.   90.  ]\n",
      " [ 0.25  0.    0.    0.25  1.   10.  ]\n",
      " [-0.25  1.    0.    1.75  0.   32.  ]\n",
      " [-0.75  0.    1.    0.75  0.    6.  ]]\n",
      "Tableau after the second pivot:\n",
      "[[  0.5          0.           2.33333333   0.           0.\n",
      "  104.        ]\n",
      " [  0.5          0.          -0.33333333   0.           1.\n",
      "    8.        ]\n",
      " [  1.5          1.          -2.33333333   0.           0.\n",
      "   18.        ]\n",
      " [ -1.           0.           1.33333333   1.           0.\n",
      "    8.        ]]\n",
      "Solution obtained manually:\n",
      "104.0\n",
      "x1 = 8.0\n",
      "x2 = 8.0\n"
     ]
    }
   ],
   "source": [
    "T_2 = pivot(T,1,4)\n",
    "print(\"Tableau after the first pivot:\")\n",
    "print(T_2)\n",
    "\n",
    "T_3 = pivot(T_2,3,3)\n",
    "print(\"Tableau after the second pivot:\")\n",
    "print(T_3)\n",
    "\n",
    "print(\"Solution obtained manually:\")\n",
    "print(T_3[0,5])\n",
    "print(\"x1 = \" + str(T_3[3,5]))\n",
    "print(\"x2 = \" + str(T_3[1,5]))"
   ]
  }
 ],
 "metadata": {
  "kernelspec": {
   "display_name": "Python 3",
   "language": "python",
   "name": "python3"
  },
  "language_info": {
   "codemirror_mode": {
    "name": "ipython",
    "version": 3
   },
   "file_extension": ".py",
   "mimetype": "text/x-python",
   "name": "python",
   "nbconvert_exporter": "python",
   "pygments_lexer": "ipython3",
   "version": "3.7.7"
  }
 },
 "nbformat": 4,
 "nbformat_minor": 4
}
