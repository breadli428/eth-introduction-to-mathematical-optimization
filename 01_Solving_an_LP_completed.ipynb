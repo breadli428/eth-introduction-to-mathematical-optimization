{
 "cells": [
  {
   "cell_type": "markdown",
   "metadata": {},
   "source": [
    "# Solving an LP\n",
    "\n",
    "**Goal.** Learn how to use `pulp` to solve an LP or determine that it is unbounded or infeasible.\n",
    "\n",
    "You are given the following LP from Chapter 1 of the script, Exercise 1.3 (a):\n",
    "\n",
    "\\begin{array}{rcrcrcr}\n",
    "\\max\t    &   & 2 x_1 & + & 3 x_2 & & \\\\\n",
    "\\text{s.t.} & - &   x_1 & + & 5 x_2 & \\leq & 20 \\\\\n",
    "            &   &   x_1 & + &   x_2 & \\leq & 10 \\\\\n",
    "            &   & 2 x_1 & - &   x_2 & \\leq & 14 \\\\\n",
    "            &   &   x_1 &   &       & \\geq &  0 \\\\\n",
    "            &   &       &   &   x_2 & \\geq &  0\n",
    "\\end{array}"
   ]
  },
  {
   "cell_type": "markdown",
   "metadata": {},
   "source": [
    "## Exercise 1\n",
    "\n",
    "**Your task**: Implement and solve the LP using the library `pulp`. You are encouraged to look up the correct syntax in the introductory notebook."
   ]
  },
  {
   "cell_type": "code",
   "execution_count": 47,
   "metadata": {},
   "outputs": [],
   "source": [
    "import pulp\n",
    "\n",
    "#Set up an LP\n",
    "\n",
    "mylp = pulp.LpProblem(\"My LP\", pulp.LpMaximize)"
   ]
  },
  {
   "cell_type": "code",
   "execution_count": 48,
   "metadata": {},
   "outputs": [],
   "source": [
    "#Create the required variables\n",
    "\n",
    "x1 = pulp.LpVariable('x1', lowBound=0, cat=pulp.LpContinuous)\n",
    "x2 = pulp.LpVariable('x2', lowBound=0, cat=pulp.LpContinuous)"
   ]
  },
  {
   "cell_type": "code",
   "execution_count": 49,
   "metadata": {},
   "outputs": [],
   "source": [
    "#Add the objective function\n",
    "\n",
    "mylp += 2*x1 + 3*x2"
   ]
  },
  {
   "cell_type": "code",
   "execution_count": 50,
   "metadata": {},
   "outputs": [],
   "source": [
    "#Add the constraints\n",
    "\n",
    "mylp += -x1 + 5*x2 <= 20\n",
    "mylp += x1 + x2 <= 10\n",
    "mylp += 2*x1 - x2 <= 14"
   ]
  },
  {
   "cell_type": "code",
   "execution_count": 51,
   "metadata": {},
   "outputs": [
    {
     "name": "stdout",
     "output_type": "stream",
     "text": [
      "My LP:\n",
      "MAXIMIZE\n",
      "2*x1 + 3*x2 + 0\n",
      "SUBJECT TO\n",
      "_C1: - x1 + 5 x2 <= 20\n",
      "\n",
      "_C2: x1 + x2 <= 10\n",
      "\n",
      "_C3: 2 x1 - x2 <= 14\n",
      "\n",
      "VARIABLES\n",
      "x1 Continuous\n",
      "x2 Continuous\n",
      "\n"
     ]
    }
   ],
   "source": [
    "#Show the summary of your LP\n",
    "\n",
    "print(mylp)"
   ]
  },
  {
   "cell_type": "code",
   "execution_count": 52,
   "metadata": {},
   "outputs": [
    {
     "data": {
      "text/plain": [
       "25.0"
      ]
     },
     "execution_count": 52,
     "metadata": {},
     "output_type": "execute_result"
    }
   ],
   "source": [
    "#Solve the LP and give the optimal objective value\n",
    "\n",
    "mylp.solve()\n",
    "mylp.objective.value()"
   ]
  },
  {
   "cell_type": "code",
   "execution_count": 53,
   "metadata": {},
   "outputs": [
    {
     "name": "stdout",
     "output_type": "stream",
     "text": [
      "5.0\n",
      "5.0\n"
     ]
    }
   ],
   "source": [
    "# Find the coordinates of the optimal solution\n",
    "\n",
    "print(x1.value())\n",
    "print(x2.value())"
   ]
  },
  {
   "cell_type": "markdown",
   "metadata": {},
   "source": [
    "Congrats! You solved your first LP.\n",
    "\n",
    "Now, we would like to modify the LP and see how that effects the solution.\n",
    "\n",
    "## Exercise 2\n",
    "\n",
    "**Your task**: Remove the first and the seconds constraint from the LP, namely\n",
    "\\begin{array}{rcrcrcr}\n",
    "            & - &   x_1 & + & 5 x_2 & \\leq & 20 \\\\\n",
    "            &   &   x_1 & + &   x_2 & \\leq & 10 \\\\\n",
    "\\end{array}\n",
    "and solve the LP again."
   ]
  },
  {
   "cell_type": "code",
   "execution_count": 54,
   "metadata": {},
   "outputs": [
    {
     "data": {
      "text/plain": [
       "My LP:\n",
       "MAXIMIZE\n",
       "2*x1 + 3*x2 + 0\n",
       "SUBJECT TO\n",
       "_C3: 2 x1 - x2 <= 14\n",
       "\n",
       "VARIABLES\n",
       "x1 Continuous\n",
       "x2 Continuous"
      ]
     },
     "execution_count": 54,
     "metadata": {},
     "output_type": "execute_result"
    }
   ],
   "source": [
    "#Delete the first and the second constraint\n",
    "\n",
    "del mylp.constraints['_C1']\n",
    "del mylp.constraints['_C2']\n",
    "mylp"
   ]
  },
  {
   "cell_type": "code",
   "execution_count": 56,
   "metadata": {},
   "outputs": [
    {
     "data": {
      "text/plain": [
       "-2"
      ]
     },
     "execution_count": 56,
     "metadata": {},
     "output_type": "execute_result"
    }
   ],
   "source": [
    "#Solve the LP\n",
    "\n",
    "mylp.solve() #unbounded"
   ]
  },
  {
   "cell_type": "markdown",
   "metadata": {},
   "source": [
    "What do you conclude about this modified version of the LP?\n",
    "\n",
    "\n",
    "Finally, let's add another constraint to the current version of the LP.\n",
    "\n",
    "## Exercise 3\n",
    "\n",
    "**Your task**: Add the second constraint again, but with a different right hand side:\n",
    "\\begin{array}{rcrcrcr}\n",
    "            &   &   x_1 & + &   x_2 & \\leq & -5 \\\\\n",
    "\\end{array}\n",
    "and solve the LP again."
   ]
  },
  {
   "cell_type": "code",
   "execution_count": 57,
   "metadata": {},
   "outputs": [
    {
     "data": {
      "text/plain": [
       "My LP:\n",
       "MAXIMIZE\n",
       "2*x1 + 3*x2 + 0\n",
       "SUBJECT TO\n",
       "_C3: 2 x1 - x2 <= 14\n",
       "\n",
       "_C4: x1 + x2 <= -5\n",
       "\n",
       "VARIABLES\n",
       "x1 Continuous\n",
       "x2 Continuous"
      ]
     },
     "execution_count": 57,
     "metadata": {},
     "output_type": "execute_result"
    }
   ],
   "source": [
    "#Add the constraint\n",
    "\n",
    "mylp += x1 + x2 <= -5\n",
    "mylp"
   ]
  },
  {
   "cell_type": "code",
   "execution_count": 58,
   "metadata": {},
   "outputs": [
    {
     "data": {
      "text/plain": [
       "-1"
      ]
     },
     "execution_count": 58,
     "metadata": {},
     "output_type": "execute_result"
    }
   ],
   "source": [
    "#Solve the LP\n",
    "\n",
    "mylp.solve() #infeasible"
   ]
  },
  {
   "cell_type": "markdown",
   "metadata": {},
   "source": [
    "What do you conclude about this last version of the LP?\n",
    "\n",
    "This is it. If you'd like to get more practice with `pulp`, feel free to experiment with this example and other LPs from the script, the lectures, and the problem sets."
   ]
  }
 ],
 "metadata": {
  "kernelspec": {
   "display_name": "Python 3",
   "language": "python",
   "name": "python3"
  },
  "language_info": {
   "codemirror_mode": {
    "name": "ipython",
    "version": 3
   },
   "file_extension": ".py",
   "mimetype": "text/x-python",
   "name": "python",
   "nbconvert_exporter": "python",
   "pygments_lexer": "ipython3",
   "version": "3.7.1"
  }
 },
 "nbformat": 4,
 "nbformat_minor": 4
}
