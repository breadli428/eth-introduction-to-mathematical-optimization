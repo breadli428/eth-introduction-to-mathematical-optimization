{
 "cells": [
  {
   "cell_type": "markdown",
   "metadata": {},
   "source": [
    "# The Simplex Method\n",
    "\n",
    "**Goal**: Solve an LP using the 2-phase simplex algorithm.\n"
   ]
  },
  {
   "cell_type": "markdown",
   "metadata": {},
   "source": [
    "## Task 1 \n",
    "\n",
    "You are given the following LP in canonical form:\n",
    "\n",
    "$$\\begin{equation}\n",
    "\\begin{array}\n",
    "\\\\max \\  &&2x_1 &+ &x_2 &       &  \\\\\n",
    "  subject \\  to:   & &x_1     &+ &3x_2   & \\leq  &15\\\\\n",
    "        & &3x_1   &-&x_2 & \\leq &-6\\\\\n",
    "        & &x_1    & &    & \\leq  &4\\\\\n",
    "        & &2x_1  &+ &x_2    & \\leq  &10\\\\\n",
    "        &-&x_1  &- &x_2    & \\leq  &-3\\\\\n",
    "        & &x_1     &  &        & \\geq  &0 \\\\\n",
    "        & &        &  &x_2     & \\geq  &0 \n",
    "\\end{array}\n",
    "\\end{equation}$$\n",
    "\n",
    "First, let us transform it into tableau form (by, as always, introducing slack variables $y_1, y_2, y_3, y_4, y_5$):\n",
    "\n",
    "$$\\begin{equation}\n",
    "\\begin{array}{l|rrrrrrr|r}\n",
    "  & y_1 & y_2 & y_3 & y_4 & y_5 & x_1 & x_2 & 1\\\\\n",
    "  \\hline\n",
    " z & 0 & 0 & 0 & 0 & 0 & -2 & -1 & 0\\\\\n",
    " \\hline\n",
    "  & 1 & 0 & 0 & 0 & 0 & 1 & 3 & 15 \\\\\n",
    "  & 0 & 1 & 0 & 0 & 0 & 3 & -1 & -6\\\\\n",
    "  & 0 & 0 & 1 & 0 & 0 & 1 & 0 & 4\\\\\n",
    "  & 0 & 0 & 0 & 1 & 0 & 2 & 1 & 10\\\\\n",
    "  & 0 & 0 & 0 & 0 & 1 & -1 & -1 & -3\n",
    "\\end{array}\n",
    "\\end{equation}$$\n"
   ]
  },
  {
   "cell_type": "markdown",
   "metadata": {},
   "source": [
    "In phase I, we look at the corresponding auxiliary LP:\n",
    "\n",
    "$$\\begin{equation}\n",
    "\\begin{array}\n",
    "\\\\max \\  && &    &&-&x_0    & &&  \\\\\n",
    "  subject \\  to:   & &x_1 &+&3x_2 &-&x_0  & \\leq  &15\\\\\n",
    "        & &3x_1 &-&x_2 &-&x_0  & \\leq  &-6\\\\\n",
    "        & &x_1    & &  &-&x_0 & \\leq  &4\\\\\n",
    "        & &2x_1  &+ &x_2  &-&x_0  & \\leq  &10\\\\\n",
    "        &-&x_1  &- &x_2  &-&x_0  & \\leq  &-3\\\\\n",
    "        & &x_1     &  &     &&   & \\geq  &0 \\\\\n",
    "        & &        &  &x_2  &&   & \\geq  &0 \\\\\n",
    "        & &        &  &  &&x_0   & \\geq  &0 \n",
    "\\end{array}\n",
    "\\end{equation}$$\n",
    "\n",
    "The tableau corresponding to the auxiliary LP is:\n",
    "\n",
    "$$\\begin{equation}\n",
    "\\begin{array}{l|rrrrrrrr|r}\n",
    "  & y_1 & y_2 & y_3 & y_4 & y_5 & x_1 & x_2 & x_0 & 1\\\\\n",
    "  \\hline\n",
    " \\tilde{z} & 0 & 0 & 0 & 0 & 0 & 0 & 0 & 1 & 0\\\\\n",
    " \\hline\n",
    "  & 1 & 0 & 0 & 0 & 0 & 1 & 3 & -1 & 15\\\\\n",
    "  & 0 & 1 & 0 & 0 & 0 & 3 & -1 & -1 & -6\\\\\n",
    "  & 0 & 0 & 1 & 0 & 0 & 1 & 0 & -1 & 4\\\\\n",
    "  & 0 & 0 & 0 & 1 & 0 & 2 & 1 & -1 & 10\\\\\n",
    "  & 0 & 0 & 0 & 0 & 1 & -1 & -1 & -1 & -3\n",
    "\\end{array}\n",
    "\\end{equation}$$\n",
    "\n",
    "\n",
    "### Find a feasible tableau for the auxiliary LP\n",
    "\n",
    "**Your task:** Perform an exchange step on the tableau of the auxiliary LP, such that the resulting tableau is feasible. You may use the pivot function given below from last week's programming assignment, which we provide below."
   ]
  },
  {
   "cell_type": "code",
   "execution_count": 1,
   "metadata": {},
   "outputs": [],
   "source": [
    "# You're given the pivot function from last weeks programming assignment\n",
    "import numpy as np\n",
    "\n",
    "def pivot(T,i,k):\n",
    "    T_pivot = np.copy(T)\n",
    "    T_pivot[i,:] = T[i,:] / T[i,k] #Step (i)\n",
    "    for l in range(0,T.shape[1]): #Step (ii)\n",
    "        for j in range(0,T.shape[0]):\n",
    "            if(j!=i):\n",
    "                T_pivot[j,l] = T[j,l] - T[j,k] * T[i,l] / T[i,k]\n",
    "    return T_pivot\n"
   ]
  },
  {
   "cell_type": "code",
   "execution_count": 2,
   "metadata": {},
   "outputs": [],
   "source": [
    "# Write down the tableau of the auxiliary LP\n",
    "\n"
   ]
  },
  {
   "cell_type": "code",
   "execution_count": 3,
   "metadata": {},
   "outputs": [],
   "source": [
    "# Perform an exchange step on the tableau, such that the resulting tableau is feasible\n",
    "\n"
   ]
  },
  {
   "cell_type": "markdown",
   "metadata": {},
   "source": [
    "### Solve the auxiliary LP\n",
    "\n",
    "**Your task**: Solve the auxiliary LP by pivoting as many times as necessary. Is the original LP feasible or infeasible? Why?"
   ]
  },
  {
   "cell_type": "code",
   "execution_count": 4,
   "metadata": {},
   "outputs": [],
   "source": [
    "# Solve the auxiliary LP\n",
    "\n"
   ]
  },
  {
   "cell_type": "markdown",
   "metadata": {},
   "source": [
    "## Task 2\n",
    "\n",
    "We sligthly change the LP from above by removing the second constraint $3x_1-x_2 \\leq -6$. This gives the canonical form:\n",
    "\n",
    "$$\\begin{equation}\n",
    "\\begin{array}\n",
    "\\\\max \\  &&2x_1 &+ &x_2 &       &  \\\\\n",
    "  subject \\  to:   & &x_1     &+ &3x_2   & \\leq  &15\\\\\n",
    "        & &x_1    & &    & \\leq  &4\\\\\n",
    "        & &2x_1  &+ &x_2    & \\leq  &10\\\\\n",
    "        &-&x_1  &- &x_2    & \\leq  &-3\\\\\n",
    "        & &x_1     &  &        & \\geq  &0 \\\\\n",
    "        & &        &  &x_2     & \\geq  &0 \n",
    "\\end{array}\n",
    "\\end{equation}$$\n",
    "\n",
    "Or in tableau form:\n",
    "\n",
    "$$\\begin{equation}\n",
    "\\begin{array}{l|rrrrrr|r}\n",
    "  & y_1 & y_2 & y_3 & y_4 & x_1 & x_2 & 1\\\\\n",
    "  \\hline\n",
    " z & 0 & 0 & 0 & 0 & -2 & -1 & 0\\\\\n",
    " \\hline\n",
    "  & 1 & 0 & 0 & 0 & 1 & 3 & 15 \\\\\n",
    "  & 0 & 1 & 0 & 0 & 1 & 0 & 4\\\\\n",
    "  & 0 & 0 & 1 & 0 & 2 & 1 & 10\\\\\n",
    "  & 0 & 0 & 0 & 1 & -1 & -1 & -3\n",
    "\\end{array}\n",
    "\\end{equation}$$\n"
   ]
  },
  {
   "cell_type": "markdown",
   "metadata": {},
   "source": [
    "### Phase I\n",
    "\n",
    "**Your task:** Similarly to task 1, perform phase I of the simplex method. Is the original LP feasible or infeasible? Why?"
   ]
  },
  {
   "cell_type": "code",
   "execution_count": 5,
   "metadata": {},
   "outputs": [],
   "source": [
    "# Write down the tableau of the auxiliary LP\n",
    "\n"
   ]
  },
  {
   "cell_type": "code",
   "execution_count": 6,
   "metadata": {},
   "outputs": [],
   "source": [
    "# Perform an exchange step on the tableau, such that the resulting tableau is feasible\n",
    "\n"
   ]
  },
  {
   "cell_type": "code",
   "execution_count": 7,
   "metadata": {},
   "outputs": [],
   "source": [
    "# Solve the auxiliary LP\n",
    "\n"
   ]
  },
  {
   "cell_type": "markdown",
   "metadata": {},
   "source": [
    "#### Write down the feasible starting tableau\n",
    "\n",
    "**Your task:** Set up the feasible starting tableau for phase II by modifying the final tableau from phase I. More specifically, delete the column corresponding to $x_0$ and replace the objective row $\\tilde{z}$ by the actual objective $z$ expressed in terms of the two current free variables."
   ]
  },
  {
   "cell_type": "code",
   "execution_count": 8,
   "metadata": {},
   "outputs": [],
   "source": [
    "# Delete column corresponding to x0\n",
    "\n"
   ]
  },
  {
   "cell_type": "code",
   "execution_count": 9,
   "metadata": {},
   "outputs": [],
   "source": [
    "# Replace objective row\n",
    "\n"
   ]
  },
  {
   "cell_type": "markdown",
   "metadata": {},
   "source": [
    "**Optional Subtask:** Think of a way to keep track of the original objective function during phase I."
   ]
  },
  {
   "cell_type": "code",
   "execution_count": 10,
   "metadata": {},
   "outputs": [],
   "source": [
    "# Redo phase I, but this time already keep track of the original objective\n",
    "\n"
   ]
  },
  {
   "cell_type": "markdown",
   "metadata": {},
   "source": [
    "### Phase II\n",
    "\n",
    "**Your task**: Solve the LP by performing as many exchange steps as necessary."
   ]
  },
  {
   "cell_type": "code",
   "execution_count": 11,
   "metadata": {},
   "outputs": [],
   "source": [
    "# Solve the LP\n",
    "\n"
   ]
  },
  {
   "cell_type": "code",
   "execution_count": 12,
   "metadata": {},
   "outputs": [],
   "source": [
    "# Extract the basic solution\n",
    "\n"
   ]
  },
  {
   "cell_type": "markdown",
   "metadata": {},
   "source": [
    "#### Uniqueness of optimal solution (optional)\n",
    "\n",
    "**Your task**: Is the optimal solution unique? Can you determine this by only looking at the tableau?"
   ]
  },
  {
   "cell_type": "code",
   "execution_count": 13,
   "metadata": {},
   "outputs": [],
   "source": [
    "# Are there other optimal solutions?\n",
    "\n"
   ]
  },
  {
   "cell_type": "markdown",
   "metadata": {},
   "source": [
    "## Task 3 (optional)\n",
    "\n",
    "**Your Task:** Double-check your solutions to tasks 1 and 2 with `pulp`."
   ]
  },
  {
   "cell_type": "code",
   "execution_count": 14,
   "metadata": {},
   "outputs": [],
   "source": [
    "# Task 1\n",
    "import pulp\n",
    "\n",
    "# Create the LP\n",
    "\n",
    "\n",
    "# Create the variables\n",
    "\n",
    "\n",
    "# Add the objective function\n",
    "\n",
    "\n",
    "# Add the constraints\n",
    "\n",
    "\n",
    "# Solve the LP\n",
    "\n"
   ]
  },
  {
   "cell_type": "code",
   "execution_count": 15,
   "metadata": {},
   "outputs": [],
   "source": [
    "# Task 2\n",
    "\n",
    "# Remove the second constraint\n",
    "\n",
    "\n",
    "# Resolve the LP\n",
    "\n"
   ]
  },
  {
   "cell_type": "code",
   "execution_count": null,
   "metadata": {},
   "outputs": [],
   "source": []
  }
 ],
 "metadata": {
  "kernelspec": {
   "display_name": "Python 3",
   "language": "python",
   "name": "python3"
  },
  "language_info": {
   "codemirror_mode": {
    "name": "ipython",
    "version": 3
   },
   "file_extension": ".py",
   "mimetype": "text/x-python",
   "name": "python",
   "nbconvert_exporter": "python",
   "pygments_lexer": "ipython3",
   "version": "3.7.7"
  }
 },
 "nbformat": 4,
 "nbformat_minor": 4
}
