{
 "cells": [
  {
   "cell_type": "markdown",
   "metadata": {},
   "source": [
    "# The Simplex Method\n",
    "\n",
    "**Goal**: Solve an LP using the 2-phase simplex algorithm.\n"
   ]
  },
  {
   "cell_type": "markdown",
   "metadata": {},
   "source": [
    "## Task 1 \n",
    "\n",
    "You are given the following LP in canonical form:\n",
    "\n",
    "$$\\begin{equation}\n",
    "\\begin{array}\n",
    "\\\\max \\  &&2x_1 &+ &x_2 &       &  \\\\\n",
    "  subject \\  to:   & &x_1     &+ &3x_2   & \\leq  &15\\\\\n",
    "        & &3x_1   &-&x_2 & \\leq &-6\\\\\n",
    "        & &x_1    & &    & \\leq  &4\\\\\n",
    "        & &2x_1  &+ &x_2    & \\leq  &10\\\\\n",
    "        &-&x_1  &- &x_2    & \\leq  &-3\\\\\n",
    "        & &x_1     &  &        & \\geq  &0 \\\\\n",
    "        & &        &  &x_2     & \\geq  &0 \n",
    "\\end{array}\n",
    "\\end{equation}$$\n",
    "\n",
    "First, let us transform it into tableau form (by, as always, introducing slack variables $y_1, y_2, y_3, y_4, y_5$):\n",
    "\n",
    "$$\\begin{equation}\n",
    "\\begin{array}{l|rrrrrrr|r}\n",
    "  & y_1 & y_2 & y_3 & y_4 & y_5 & x_1 & x_2 & 1\\\\\n",
    "  \\hline\n",
    " z & 0 & 0 & 0 & 0 & 0 & -2 & -1 & 0\\\\\n",
    " \\hline\n",
    "  & 1 & 0 & 0 & 0 & 0 & 1 & 3 & 15 \\\\\n",
    "  & 0 & 1 & 0 & 0 & 0 & 3 & -1 & -6\\\\\n",
    "  & 0 & 0 & 1 & 0 & 0 & 1 & 0 & 4\\\\\n",
    "  & 0 & 0 & 0 & 1 & 0 & 2 & 1 & 10\\\\\n",
    "  & 0 & 0 & 0 & 0 & 1 & -1 & -1 & -3\n",
    "\\end{array}\n",
    "\\end{equation}$$\n"
   ]
  },
  {
   "cell_type": "markdown",
   "metadata": {},
   "source": [
    "In phase I, we look at the corresponding auxiliary LP:\n",
    "\n",
    "$$\\begin{equation}\n",
    "\\begin{array}\n",
    "\\\\max \\  && &    &&-&x_0    & &&  \\\\\n",
    "  subject \\  to:   & &x_1 &+&3x_2 &-&x_0  & \\leq  &15\\\\\n",
    "        & &3x_1 &-&x_2 &-&x_0  & \\leq  &-6\\\\\n",
    "        & &x_1    & &  &-&x_0 & \\leq  &4\\\\\n",
    "        & &2x_1  &+ &x_2  &-&x_0  & \\leq  &10\\\\\n",
    "        &-&x_1  &- &x_2  &-&x_0  & \\leq  &-3\\\\\n",
    "        & &x_1     &  &     &&   & \\geq  &0 \\\\\n",
    "        & &        &  &x_2  &&   & \\geq  &0 \\\\\n",
    "        & &        &  &  &&x_0   & \\geq  &0 \n",
    "\\end{array}\n",
    "\\end{equation}$$\n",
    "\n",
    "The tableau corresponding to the auxiliary LP is:\n",
    "\n",
    "$$\\begin{equation}\n",
    "\\begin{array}{l|rrrrrrrr|r}\n",
    "  & y_1 & y_2 & y_3 & y_4 & y_5 & x_1 & x_2 & x_0 & 1\\\\\n",
    "  \\hline\n",
    " \\tilde{z} & 0 & 0 & 0 & 0 & 0 & 0 & 0 & 1 & 0\\\\\n",
    " \\hline\n",
    "  & 1 & 0 & 0 & 0 & 0 & 1 & 3 & -1 & 15\\\\\n",
    "  & 0 & 1 & 0 & 0 & 0 & 3 & -1 & -1 & -6\\\\\n",
    "  & 0 & 0 & 1 & 0 & 0 & 1 & 0 & -1 & 4\\\\\n",
    "  & 0 & 0 & 0 & 1 & 0 & 2 & 1 & -1 & 10\\\\\n",
    "  & 0 & 0 & 0 & 0 & 1 & -1 & -1 & -1 & -3\n",
    "\\end{array}\n",
    "\\end{equation}$$\n",
    "\n",
    "\n",
    "### Find a feasible tableau for the auxiliary LP\n",
    "\n",
    "**Your task:** Perform an exchange step on the tableau of the auxiliary LP, such that the resulting tableau is feasible. You may use the pivot function given below from last week's programming assignment, which we provide below."
   ]
  },
  {
   "cell_type": "code",
   "execution_count": 12,
   "metadata": {},
   "outputs": [],
   "source": [
    "# You're given the pivot function from last weeks programming assignment\n",
    "import numpy as np\n",
    "\n",
    "def pivot(T,i,k):\n",
    "    T_pivot = np.copy(T)\n",
    "    T_pivot[i,:] = T[i,:] / T[i,k] #Step (i)\n",
    "    for l in range(0,T.shape[1]): #Step (ii)\n",
    "        for j in range(0,T.shape[0]):\n",
    "            if(j!=i):\n",
    "                T_pivot[j,l] = T[j,l] - T[j,k] * T[i,l] / T[i,k]\n",
    "    return T_pivot\n"
   ]
  },
  {
   "cell_type": "code",
   "execution_count": 13,
   "metadata": {},
   "outputs": [],
   "source": [
    "# Write down the tableau of the auxiliary LP\n",
    "\n",
    "T = np.array([\n",
    "    [0, 0, 0, 0, 0, 0, 0, 1, 0],\n",
    "    [1, 0, 0, 0, 0, 1, 3,-1,15],\n",
    "    [0, 1, 0, 0, 0, 3,-1,-1,-6],\n",
    "    [0, 0, 1, 0, 0, 1, 0,-1, 4],\n",
    "    [0, 0, 0, 1, 0, 2, 1,-1,10],\n",
    "    [0, 0, 0, 0, 1,-1,-1,-1,-3]\n",
    "], dtype=float)\n"
   ]
  },
  {
   "cell_type": "code",
   "execution_count": 14,
   "metadata": {},
   "outputs": [
    {
     "name": "stdout",
     "output_type": "stream",
     "text": [
      "[[ 0.  1.  0.  0.  0.  3. -1.  0. -6.]\n",
      " [ 1. -1.  0.  0.  0. -2.  4.  0. 21.]\n",
      " [-0. -1. -0. -0. -0. -3.  1.  1.  6.]\n",
      " [ 0. -1.  1.  0.  0. -2.  1.  0. 10.]\n",
      " [ 0. -1.  0.  1.  0. -1.  2.  0. 16.]\n",
      " [ 0. -1.  0.  0.  1. -4.  0.  0.  3.]]\n"
     ]
    }
   ],
   "source": [
    "# Perform an exchange step on the tableau, such that the resulting tableau is feasible\n",
    "\n",
    "T = pivot(T,2,7) # exchange x_0 and y_2, i. e. pivot on position (3,8)\n",
    "print(T)"
   ]
  },
  {
   "cell_type": "markdown",
   "metadata": {},
   "source": [
    "### Solve the auxiliary LP\n",
    "\n",
    "**Your task**: Solve the auxiliary LP by pivoting as many times as necessary. Is the original LP feasible or infeasible? Why?"
   ]
  },
  {
   "cell_type": "code",
   "execution_count": 15,
   "metadata": {},
   "outputs": [
    {
     "name": "stdout",
     "output_type": "stream",
     "text": [
      "[[ 0.25  0.75  0.    0.    0.    2.5   0.    0.   -0.75]\n",
      " [ 0.25 -0.25  0.    0.    0.   -0.5   1.    0.    5.25]\n",
      " [-0.25 -0.75 -0.   -0.   -0.   -2.5   0.    1.    0.75]\n",
      " [-0.25 -0.75  1.    0.    0.   -1.5   0.    0.    4.75]\n",
      " [-0.5  -0.5   0.    1.    0.    0.    0.    0.    5.5 ]\n",
      " [ 0.   -1.    0.    0.    1.   -4.    0.    0.    3.  ]]\n"
     ]
    }
   ],
   "source": [
    "# Solve the auxiliary LP\n",
    "\n",
    "T = pivot(T,1,6) # exchange x_2 and y_1, i. e. pivot on position (2,7)\n",
    "print(T) # optimal with a negative objective value, hence the original LP is infeasible"
   ]
  },
  {
   "cell_type": "markdown",
   "metadata": {},
   "source": [
    "## Task 2\n",
    "\n",
    "We sligthly change the LP from above by removing the second constraint $3x_1-x_2 \\leq -6$. This gives the canonical form:\n",
    "\n",
    "$$\\begin{equation}\n",
    "\\begin{array}\n",
    "\\\\max \\  &&2x_1 &+ &x_2 &       &  \\\\\n",
    "  subject \\  to:   & &x_1     &+ &3x_2   & \\leq  &15\\\\\n",
    "        & &x_1    & &    & \\leq  &4\\\\\n",
    "        & &2x_1  &+ &x_2    & \\leq  &10\\\\\n",
    "        &-&x_1  &- &x_2    & \\leq  &-3\\\\\n",
    "        & &x_1     &  &        & \\geq  &0 \\\\\n",
    "        & &        &  &x_2     & \\geq  &0 \n",
    "\\end{array}\n",
    "\\end{equation}$$\n",
    "\n",
    "Or in tableau form:\n",
    "\n",
    "$$\\begin{equation}\n",
    "\\begin{array}{l|rrrrrr|r}\n",
    "  & y_1 & y_2 & y_3 & y_4 & x_1 & x_2 & 1\\\\\n",
    "  \\hline\n",
    " z & 0 & 0 & 0 & 0 & -2 & -1 & 0\\\\\n",
    " \\hline\n",
    "  & 1 & 0 & 0 & 0 & 1 & 3 & 15 \\\\\n",
    "  & 0 & 1 & 0 & 0 & 1 & 0 & 4\\\\\n",
    "  & 0 & 0 & 1 & 0 & 2 & 1 & 10\\\\\n",
    "  & 0 & 0 & 0 & 1 & -1 & -1 & -3\n",
    "\\end{array}\n",
    "\\end{equation}$$\n"
   ]
  },
  {
   "cell_type": "markdown",
   "metadata": {},
   "source": [
    "### Phase I\n",
    "\n",
    "**Your task:** Similarly to task 1, perform phase I of the simplex method. Is the original LP feasible or infeasible? Why?"
   ]
  },
  {
   "cell_type": "code",
   "execution_count": 16,
   "metadata": {},
   "outputs": [],
   "source": [
    "# Write down the tableau of the auxiliary LP\n",
    "\n",
    "T = np.array([\n",
    "    [0, 0, 0, 0, 0, 0, 1, 0],\n",
    "    [1, 0, 0, 0, 1, 3,-1,15],\n",
    "    [0, 1, 0, 0, 1, 0,-1, 4],\n",
    "    [0, 0, 1, 0, 2, 1,-1,10],\n",
    "    [0, 0, 0, 1,-1,-1,-1,-3]\n",
    "], dtype=float)\n"
   ]
  },
  {
   "cell_type": "code",
   "execution_count": 17,
   "metadata": {},
   "outputs": [
    {
     "name": "stdout",
     "output_type": "stream",
     "text": [
      "[[ 0.  0.  0.  1. -1. -1.  0. -3.]\n",
      " [ 1.  0.  0. -1.  2.  4.  0. 18.]\n",
      " [ 0.  1.  0. -1.  2.  1.  0.  7.]\n",
      " [ 0.  0.  1. -1.  3.  2.  0. 13.]\n",
      " [-0. -0. -0. -1.  1.  1.  1.  3.]]\n"
     ]
    }
   ],
   "source": [
    "# Perform an exchange step on the tableau, such that the resulting tableau is feasible\n",
    "\n",
    "T = pivot(T,4,6) # exchange x_0 and y_4, i. e. pivot on position (5,7)\n",
    "print(T)"
   ]
  },
  {
   "cell_type": "code",
   "execution_count": 18,
   "metadata": {},
   "outputs": [
    {
     "name": "stdout",
     "output_type": "stream",
     "text": [
      "[[ 0.  0.  0.  0.  0.  0.  1.  0.]\n",
      " [ 1.  0.  0.  3. -2.  0. -4.  6.]\n",
      " [ 0.  1.  0.  0.  1.  0. -1.  4.]\n",
      " [ 0.  0.  1.  1.  1.  0. -2.  7.]\n",
      " [-0. -0. -0. -1.  1.  1.  1.  3.]]\n"
     ]
    }
   ],
   "source": [
    "# Solve the auxiliary LP\n",
    "\n",
    "T = pivot(T,4,5) # for example, exchange x_2 and y_0, i. e. pivot on position (5,6)\n",
    "print(T) # optimal, since the objective value is 0"
   ]
  },
  {
   "cell_type": "markdown",
   "metadata": {},
   "source": [
    "#### Write down the feasible starting tableau\n",
    "\n",
    "**Your task:** Set up the feasible starting tableau for phase II by modifying the final tableau from phase I. More specifically, delete the column corresponding to $x_0$ and replace the objective row $\\tilde{z}$ by the actual objective $z$ expressed in terms of the two current free variables."
   ]
  },
  {
   "cell_type": "code",
   "execution_count": 19,
   "metadata": {},
   "outputs": [],
   "source": [
    "# Delete column corresponding to x0\n",
    "\n",
    "T = np.delete(T,6,1)"
   ]
  },
  {
   "cell_type": "code",
   "execution_count": 20,
   "metadata": {},
   "outputs": [
    {
     "name": "stdout",
     "output_type": "stream",
     "text": [
      "[[ 0.  0.  0. -1. -1.  0.  3.]\n",
      " [ 1.  0.  0.  3. -2.  0.  6.]\n",
      " [ 0.  1.  0.  0.  1.  0.  4.]\n",
      " [ 0.  0.  1.  1.  1.  0.  7.]\n",
      " [-0. -0. -0. -1.  1.  1.  3.]]\n"
     ]
    }
   ],
   "source": [
    "# Replace objective row\n",
    "\n",
    "z = [0, 0, 0, 0, -2, -1, 0] # our objective is z = 2*x1 + x2\n",
    "T[0,:] = z + T[4,:] # transform it in terms of y4 and x1 (the current free variables)\n",
    "print(T)"
   ]
  },
  {
   "cell_type": "markdown",
   "metadata": {},
   "source": [
    "**Optional Subtask:** Think of a way to keep track of the original objective function during phase I."
   ]
  },
  {
   "cell_type": "code",
   "execution_count": 21,
   "metadata": {},
   "outputs": [
    {
     "name": "stdout",
     "output_type": "stream",
     "text": [
      "[[ 0.  0.  0. -1. -1.  0.  3.]\n",
      " [ 1.  0.  0.  3. -2.  0.  6.]\n",
      " [ 0.  1.  0.  0.  1.  0.  4.]\n",
      " [ 0.  0.  1.  1.  1.  0.  7.]\n",
      " [-0. -0. -0. -1.  1.  1.  3.]]\n"
     ]
    }
   ],
   "source": [
    "# Redo phase I, but this time already keep track of the original objective\n",
    "\n",
    "T = np.array([\n",
    "    [0, 0, 0, 0, 0, 0, 1, 0],\n",
    "    [0, 0, 0, 0,-2,-1, 0, 0], # simply add the original objective row from the beginning\n",
    "    [1, 0, 0, 0, 1, 3,-1,15],\n",
    "    [0, 1, 0, 0, 1, 0,-1, 4],\n",
    "    [0, 0, 1, 0, 2, 1,-1,10],\n",
    "    [0, 0, 0, 1,-1,-1,-1,-3]\n",
    "], dtype=float)\n",
    "T = pivot(T,5,6)\n",
    "T = pivot(T,5,5)\n",
    "T = np.delete(T,6,1) # delete column corresponding to x0\n",
    "T = np.delete(T,0,0) # delete auxiliary objective row\n",
    "print(T)"
   ]
  },
  {
   "cell_type": "markdown",
   "metadata": {},
   "source": [
    "### Phase II\n",
    "\n",
    "**Your task**: Solve the LP by performing as many exchange steps as necessary."
   ]
  },
  {
   "cell_type": "code",
   "execution_count": 22,
   "metadata": {},
   "outputs": [
    {
     "name": "stdout",
     "output_type": "stream",
     "text": [
      "[[ 0.   0.   1.   0.   0.   0.  10. ]\n",
      " [ 0.2  0.   0.4  1.   0.   0.   4. ]\n",
      " [ 0.2  1.  -0.6  0.   0.   0.   1. ]\n",
      " [-0.2  0.   0.6  0.   1.   0.   3. ]\n",
      " [ 0.4  0.  -0.2  0.   0.   1.   4. ]]\n"
     ]
    }
   ],
   "source": [
    "# Solve the LP\n",
    "\n",
    "T = pivot(T,1,3) # for example, exchange y_4 and y_1, i. e. pivot on position (2,4)\n",
    "T = pivot(T,3,4) # for example, exchange x_1 and y_3, i. e. pivot on position (4,5)\n",
    "print(T)"
   ]
  },
  {
   "cell_type": "code",
   "execution_count": 23,
   "metadata": {},
   "outputs": [
    {
     "name": "stdout",
     "output_type": "stream",
     "text": [
      "An optimal solution to the LP is ( 3.0 , 4.0 ) with objective value 10.0\n"
     ]
    }
   ],
   "source": [
    "# Extract the basic solution\n",
    "\n",
    "(x_1, x_2) = T[3:5, 6]\n",
    "z = T[0, 6]\n",
    "print(\"An optimal solution to the LP is (\",round(x_1),\",\",round(x_2),\") with objective value\",round(z))"
   ]
  },
  {
   "cell_type": "markdown",
   "metadata": {},
   "source": [
    "#### Uniqueness of optimal solution (optional)\n",
    "\n",
    "**Your task**: Is the optimal solution unique? Can you determine this by only looking at the tableau?"
   ]
  },
  {
   "cell_type": "code",
   "execution_count": 24,
   "metadata": {},
   "outputs": [
    {
     "name": "stdout",
     "output_type": "stream",
     "text": [
      "Another optimal solution to the LP is ( 4.0 , 2.0 ) with objective value 10.0\n",
      "Also, any point on the segment between those two vertex solutions is an optimal solution as well.\n"
     ]
    }
   ],
   "source": [
    "# Are there other optimal solutions?\n",
    "\n",
    "# y_2 does not contribute anything to the objective: corresponding entry is 0\n",
    "T = pivot(T,2,0) # we can exchange y_1 and y_2, i. e. pivot on position (3,1)\n",
    "(X_1, X_2) = T[3:5, 6]\n",
    "Z = T[0, 6]\n",
    "print(\"Another optimal solution to the LP is (\",round(X_1),\",\",round(X_2),\") with objective value\",round(Z))\n",
    "print(\"Also, any point on the segment between those two vertex solutions is an optimal solution as well.\")"
   ]
  },
  {
   "cell_type": "markdown",
   "metadata": {},
   "source": [
    "## Task 3 (optional)\n",
    "\n",
    "**Your Task:** Double-check your solutions to tasks 1 and 2 with `pulp`."
   ]
  },
  {
   "cell_type": "code",
   "execution_count": 25,
   "metadata": {},
   "outputs": [
    {
     "data": {
      "text/plain": [
       "-1"
      ]
     },
     "execution_count": 25,
     "metadata": {},
     "output_type": "execute_result"
    }
   ],
   "source": [
    "# Task 1\n",
    "import pulp\n",
    "\n",
    "# Create the LP\n",
    "mylp = pulp.LpProblem(\"My LP\", pulp.LpMaximize)\n",
    "\n",
    "# Create the variables\n",
    "x1 = pulp.LpVariable('x1', lowBound=0, cat=pulp.LpContinuous)\n",
    "x2 = pulp.LpVariable('x2', lowBound=0, cat=pulp.LpContinuous)\n",
    "\n",
    "# Add the objective function\n",
    "mylp += 2*x1 + x2\n",
    "\n",
    "# Add the constraints\n",
    "mylp += x1 + 3*x2 <= 15\n",
    "mylp += 3*x1 - x2 <= -6\n",
    "mylp += x1 <= 4\n",
    "mylp += 2*x1 + x2 <= 10\n",
    "mylp += -x1 - x2 <= -3\n",
    "\n",
    "# Solve the LP\n",
    "mylp.solve() # -1: infeasible\n"
   ]
  },
  {
   "cell_type": "code",
   "execution_count": 26,
   "metadata": {},
   "outputs": [
    {
     "name": "stdout",
     "output_type": "stream",
     "text": [
      "An optimal solution to the LP is ( 3.0 , 4.0 ) with objective value 10.0\n"
     ]
    }
   ],
   "source": [
    "# Task 2\n",
    "\n",
    "# Remove the second constraint\n",
    "del mylp.constraints[\"_C2\"]\n",
    "\n",
    "# Resolve the LP\n",
    "mylp.solve()\n",
    "\n",
    "# Print the solution and the optimal objective value\n",
    "print(\"An optimal solution to the LP is (\",x1.value(),\",\",x2.value(),\") with objective value\",mylp.objective.value())"
   ]
  },
  {
   "cell_type": "code",
   "execution_count": null,
   "metadata": {},
   "outputs": [],
   "source": []
  }
 ],
 "metadata": {
  "kernelspec": {
   "display_name": "Python 3",
   "language": "python",
   "name": "python3"
  },
  "language_info": {
   "codemirror_mode": {
    "name": "ipython",
    "version": 3
   },
   "file_extension": ".py",
   "mimetype": "text/x-python",
   "name": "python",
   "nbconvert_exporter": "python",
   "pygments_lexer": "ipython3",
   "version": "3.7.7"
  }
 },
 "nbformat": 4,
 "nbformat_minor": 4
}
