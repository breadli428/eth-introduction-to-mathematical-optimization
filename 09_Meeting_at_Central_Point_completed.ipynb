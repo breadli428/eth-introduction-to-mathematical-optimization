{
 "cells": [
  {
   "cell_type": "markdown",
   "metadata": {},
   "source": [
    "# Meeting at a Central Point\n",
    "\n",
    "**Goal**: Help three caterpillars to find a vertex, where they can meet the soonest.\n",
    "\n",
    "Imagine three caterpillars sitting on vertices $v_1$, $v_2$, and $v_3$ of a connected graph $G = (V,E)$. The three caterpillars would like to meet at one of the vertices of the graph. All they can do is moving from one vertex to another via the edges of the graph, and they can only stop at vertices of the graph, but not on an edge. When traversing an edge, the three caterpillars travel at the same speed of one edge per hour. For an example, consider the graph below. The starting points of the caterpillars are marked in red."
   ]
  },
  {
   "cell_type": "code",
   "execution_count": 2,
   "metadata": {},
   "outputs": [
    {
     "data": {
      "image/png": "[encoded data removed]",
      "text/plain": [
       "<Figure size 432x288 with 1 Axes>"
      ]
     },
     "metadata": {},
     "output_type": "display_data"
    }
   ],
   "source": [
    "import networkx as nx\n",
    "\n",
    "# Create graph G\n",
    "G = nx.Graph()\n",
    "G.add_nodes_from(['v1','v2','v3','v4','v5','v6','v7','v8','v9'])\n",
    "G.add_edges_from([('v1','v4'), ('v1','v6'),\n",
    "                  ('v2','v5'), ('v2','v4'),\n",
    "                  ('v3','v8'), ('v3','v9'),\n",
    "                  ('v4','v6'), ('v4','v8'), ('v4','v9'),\n",
    "                  ('v5','v9'),\n",
    "                  ('v6','v8'),\n",
    "                  ('v7','v8'),\n",
    "                  ('v8','v9')])\n",
    "\n",
    "# Plot graph G\n",
    "%matplotlib inline\n",
    "nx.draw(G, with_labels=True, node_color = 3*['lightcoral']+6*['lightblue'])"
   ]
  },
  {
   "cell_type": "markdown",
   "metadata": {},
   "source": [
    "To meet at vertex $v_5$, the caterpillar from vertex $v_1$ could travel to $v_5$ via the vertices $v_4$ and $v_2$ in three hours (and there is no faster option), and the caterpillars from $v_2$ and $v_3$ could be there in one and two hours, respectively. Thus, an earliest meeting at $v_5$ could take place three hours after the caterpillars start moving."
   ]
  },
  {
   "cell_type": "markdown",
   "metadata": {},
   "source": [
    "**Your task:** The caterpillars want to know at a vertex where they can meet the soonest. Implement an algorithm that determines such a vertex.\n",
    "\n",
    "*Hint:* You may use the implementation of Breadth first search `nx.bfs_edges(G, source)`."
   ]
  },
  {
   "cell_type": "code",
   "execution_count": 3,
   "metadata": {},
   "outputs": [
    {
     "name": "stdout",
     "output_type": "stream",
     "text": [
      "{'v1': 0, 'v2': 2, 'v3': 3, 'v4': 1, 'v5': 3, 'v6': 1, 'v7': 3, 'v8': 2, 'v9': 2}\n"
     ]
    }
   ],
   "source": [
    "# Write a function that computes the distances of all nodes from a source node\n",
    "def distances(G, source):\n",
    "    edges = list(nx.bfs_edges(G, source)) # apply breadth first search\n",
    "    dist = {node:0 for node in list(G.nodes)} # initialize distances as zero\n",
    "    for edge in edges:\n",
    "        dist[edge[1]] = dist[edge[0]] + 1\n",
    "    return dist\n",
    "\n",
    "print(distances(G, 'v1'))"
   ]
  },
  {
   "cell_type": "code",
   "execution_count": 4,
   "metadata": {},
   "outputs": [
    {
     "name": "stdout",
     "output_type": "stream",
     "text": [
      "{'v1': 3, 'v2': 3, 'v3': 3, 'v4': 2, 'v5': 3, 'v6': 2, 'v7': 3, 'v8': 2, 'v9': 2}\n"
     ]
    }
   ],
   "source": [
    "# Write a function that computes the maximal time needed in order for all caterpillars to reach a vertex\n",
    "def time_to_meeting(G, sources):\n",
    "    time = {node:0 for node in list(G.nodes)} # initialize distances as zero\n",
    "    dist = [distances(G, source) for source in sources]\n",
    "    for node in list(G.nodes):\n",
    "        time[node] = max([d[node] for d in dist])\n",
    "    return time\n",
    "\n",
    "print(time_to_meeting(G, ['v1','v2','v3']))"
   ]
  },
  {
   "cell_type": "code",
   "execution_count": 5,
   "metadata": {},
   "outputs": [
    {
     "name": "stdout",
     "output_type": "stream",
     "text": [
      "A possible meeting point is the vertex v4.\n"
     ]
    }
   ],
   "source": [
    "# Apply your function to the graph G and get a possible meeting vertex\n",
    "time = time_to_meeting(G, ['v1','v2','v3'])\n",
    "print(f'A possible meeting point is the vertex {min(time, key=time.get)}.') "
   ]
  },
  {
   "cell_type": "markdown",
   "metadata": {},
   "source": [
    "**Optional task**: Analyze the running time of your algorithm in terms of $|V|$ and $|E|$ (the number of caterpillars, namely three, is assumed to be a constant). Can you achieve a complexity of $O(|V|+|E|)$?"
   ]
  },
  {
   "cell_type": "markdown",
   "metadata": {},
   "source": [
    "**Solution:** Remember that BFS takes $O(|V|+|E|)$ time.\n",
    "\n",
    "1. We apply BFS three times, which has again a complexity of $O(|V|+|E|)$.\n",
    "2. We compute the maximum of three values $|V|$ times, which is of complexity $O(|V|)$.\n",
    "3. We find a minimizing vertex by comparing $|V|$ values, which is again of complexity $O(|V|)$.\n",
    "\n",
    "Hence, the complete procedure is of complexity $O(|V|+|E|)$."
   ]
  },
  {
   "cell_type": "code",
   "execution_count": null,
   "metadata": {},
   "outputs": [],
   "source": []
  }
 ],
 "metadata": {
  "kernelspec": {
   "display_name": "Python 3",
   "language": "python",
   "name": "python3"
  },
  "language_info": {
   "codemirror_mode": {
    "name": "ipython",
    "version": 3
   },
   "file_extension": ".py",
   "mimetype": "text/x-python",
   "name": "python",
   "nbconvert_exporter": "python",
   "pygments_lexer": "ipython3",
   "version": "3.7.1"
  }
 },
 "nbformat": 4,
 "nbformat_minor": 4
}
