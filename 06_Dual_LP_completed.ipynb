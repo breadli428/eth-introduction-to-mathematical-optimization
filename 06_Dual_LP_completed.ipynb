{
 "cells": [
  {
   "cell_type": "markdown",
   "metadata": {},
   "source": [
    "# Dual LP\n",
    "\n",
    "## 1. Construction of the Dual to an LP\n",
    "\n",
    "Your first task will be to implement a function that constructs the dual to an LP in canonical form.\n",
    "\n",
    "### Example of Dual\n",
    "\n",
    "As seen in the script the *primal* LP:\n",
    "$$\\begin{equation}\n",
    "\\begin{array}\n",
    "\\\\max \\ z = & 4x_1 & + & x_2  & + & 5x_3 & + & 3x_4, &      &   \\\\\n",
    "s.t:     & x_1  & - & x_2  & - & x_3  & + & 3x_4  & \\leq & 1 \\\\\n",
    "         & 5x_1 & + & x_2  & + & 3x_3 & + & 8x_4  & \\leq & 55\\\\\n",
    "         & -x_1 & + & 2x_2 & + & 3x_3 & - & 5x_4  & \\leq & 3 \\\\\n",
    "\\end{array}\\\\\n",
    "        x_1\\geq 0,x_2\\geq 0,x_3\\geq 0,x_4\\geq 0.\n",
    "\\end{equation}$$\n",
    "\n",
    "Will become the following *dual problem*:\n",
    "$$\\begin{equation}\n",
    "\\begin{array}\n",
    "\\\\min \\ w = & y_1  & + & 55y_2 & + & 3y_3 &      &   \\\\\n",
    "s.t:        & y_1  & + & 5y_2  & - & y_3  & \\geq & 4 \\\\\n",
    "            & -y_1 & + & y_2   & + & 2y_3 & \\geq & 1 \\\\\n",
    "            & -y_1 & + & 3y_2  & + & 3y_3 & \\geq & 5 \\\\\n",
    "            & 3y_1 & + & 8y_2  & - & 5y_3 & \\geq & 3 \\\\\n",
    "\\end{array}\\\\\n",
    "        y_1\\geq 0,y_2\\geq 0,y_3\\geq 0.\n",
    "\\end{equation}$$\n",
    "\n",
    "<br><br>\n",
    "To solve the Dual with the simplex method we implemented, we still have to convert the Dual into canonical form. This is easily achieved. The minimization of the objective function can be seen as the maximization of the negative objective function (min$(w)=$max$(-w)$). Additional we need to change the constraints to have 'lesser-than or equal' signs. <br>So in summary we get to the canonical form by multiplying each equation with $-1$. <br>\n",
    "If you look at the resulting tableaus you see, that we achieve the Dual by rotating rows and moving them to the right place.\n",
    "\n",
    "`Task:` Implement a function that converts a primal tableau `P` to the tableau `D` of the corresponding Dual in canonical form."
   ]
  },
  {
   "cell_type": "code",
   "execution_count": 1,
   "metadata": {
    "scrolled": true
   },
   "outputs": [
    {
     "name": "stdout",
     "output_type": "stream",
     "text": [
      "[[ -1. -55.  -3.  -0.]\n",
      " [ -1.  -5.   1.   4.]\n",
      " [  1.  -1.  -2.   1.]\n",
      " [  1.  -3.  -3.   5.]\n",
      " [ -3.  -8.   5.   3.]]\n"
     ]
    }
   ],
   "source": [
    "import numpy as np\n",
    "P = np.matrix([\n",
    "    [-4,-1,-5,-3, 0],\n",
    "    [1,-1,-1, 3, 1],\n",
    "    [5, 1, 3, 8, 55],\n",
    "    [-1,2, 3,-5, 3]\n",
    "])\n",
    "\n",
    "def toDual(P):\n",
    "    n=P.shape[0]\n",
    "    m=P.shape[1]\n",
    "    D = np.zeros(shape=(m,n))\n",
    "    for i in range(0,n):\n",
    "        D[1:m,i-1] = P[i,:n]\n",
    "    for i in range(0,n-1):\n",
    "        D[0,i]=P[i+1,m-1]\n",
    "    D = D * -1\n",
    "    return D\n",
    "\n",
    "print(toDual(P))"
   ]
  },
  {
   "cell_type": "markdown",
   "metadata": {},
   "source": [
    "## 2. Computation of optimal solutions for primal and dual LPs\n",
    "\n"
   ]
  },
  {
   "cell_type": "markdown",
   "metadata": {},
   "source": [
    "### 2.1 Example 1\n",
    "Given the following LP compute the primal and dual solution.\n",
    "\n",
    "$$\\begin{equation}\n",
    "\\begin{array}\n",
    "\\\\max \\ z = & 4x_1 & + & 9x_2 & + & 2x_3 & + &  x_4, &      &   \\\\\n",
    "s.t:        & x_1  & + & 5x_2 & + & 7x_3 & - & 2x_4  & \\leq & -4\\\\\n",
    "            & 3x_1 & + & 7x_2 & + & 5x_3 & + & 4x_4  & \\leq &  9\\\\\n",
    "            & 3x_1 & + & 3x_2 & + & 12x_3& - & 5x_4  & \\leq & 20\\\\\n",
    "\\end{array}\\\\\n",
    "        x_1\\geq 0,x_2\\geq 0,x_3\\geq 0,x_4\\geq 0.\n",
    "\\end{equation}$$\n",
    "\n",
    "To solve the problems, use either your own Simplex-Method from last week or compute the optimal solutions using pulp."
   ]
  },
  {
   "cell_type": "markdown",
   "metadata": {},
   "source": [
    "The corresponding dual is:\n",
    "$$\\begin{equation}\n",
    "\\begin{array}\n",
    "\\\\min \\ w = & -4y_1 & + & 9y_2  & + & 20y_3 &      &   \\\\\n",
    "s.t:        & y_1   & + & 3y_2  & + & 3y_3  & \\geq & 4 \\\\\n",
    "            & 5y_1  & + & 7y_2  & + & 3y_3  & \\geq & 9 \\\\\n",
    "            & 7y_1  & + & 5y_2  & + & 12y_3 & \\geq & 2 \\\\\n",
    "            & -2y_1 & + & 4y_2  & - & 5y_3  & \\geq & 1 \\\\\n",
    "\\end{array}\\\\\n",
    "        y_1\\geq 0,y_2\\geq 0,y_3\\geq0.\n",
    "\\end{equation}$$"
   ]
  },
  {
   "cell_type": "code",
   "execution_count": 2,
   "metadata": {
    "scrolled": true
   },
   "outputs": [
    {
     "name": "stdout",
     "output_type": "stream",
     "text": [
      "Solution of primal:\n",
      "2.9000000000000004\n",
      "x1 = 0.2\n",
      "x2 = 0.0\n",
      "x3 = 0.0\n",
      "x4 = 2.1\n",
      "Status: Optimal\n",
      "Solution of dual:\n",
      "2.8999999999999995\n",
      "y1 = 1.3\n",
      "y2 = 0.9\n",
      "y3 = 0.0\n",
      "Status: Optimal\n"
     ]
    }
   ],
   "source": [
    "import pulp\n",
    "\n",
    "#Create the LP\n",
    "primalLP1 = pulp.LpProblem(\"Primal1\", pulp.LpMaximize)\n",
    "\n",
    "#Create the variables\n",
    "x1 = pulp.LpVariable('x1', lowBound=0, cat=pulp.LpContinuous)\n",
    "x2 = pulp.LpVariable('x2', lowBound=0, cat=pulp.LpContinuous)\n",
    "x3 = pulp.LpVariable('x3', lowBound=0, cat=pulp.LpContinuous)\n",
    "x4 = pulp.LpVariable('x4', lowBound=0, cat=pulp.LpContinuous)\n",
    "\n",
    "#Add the objective function\n",
    "primalLP1 += 4*x1 + 9*x2 + 2*x3 + x4\n",
    "\n",
    "#Add the constraints\n",
    "primalLP1 += x1 + 5*x2 + 7*x3 - 2*x4 <= -4\n",
    "primalLP1 += 3*x1 + 7*x2 + 5*x3 + 4*x4  <= 9\n",
    "primalLP1 += 3*x1 + 3*x2 + 12*x3 - 5*x4 <= 20\n",
    "\n",
    "primalLP1.solve()\n",
    "print(\"Solution of primal:\")\n",
    "#Print out the optimal objective value of primalLP\n",
    "print(primalLP1.objective.value())\n",
    "#Print out optimal vertex.\n",
    "for v in primalLP1.variables():\n",
    "    print(str(v) + \" = \" + str(v.value()))\n",
    "print(\"Status: \" + str( pulp.LpStatus[primalLP1.status]) )\n",
    "\n",
    "#Create the LP\n",
    "dualLP1 = pulp.LpProblem(\"Dual1\", pulp.LpMinimize)\n",
    "\n",
    "#Create the variables\n",
    "y1 = pulp.LpVariable('y1', lowBound=0, cat=pulp.LpContinuous)\n",
    "y2 = pulp.LpVariable('y2', lowBound=0, cat=pulp.LpContinuous)\n",
    "y3 = pulp.LpVariable('y3', lowBound=0, cat=pulp.LpContinuous)\n",
    "\n",
    "\n",
    "#Add the objective function\n",
    "dualLP1 += -4*y1 + 9*y2 + 20*y3\n",
    "\n",
    "#Add the constraints\n",
    "dualLP1 += y1 + 3*y2 + 3*y3 >=4\n",
    "dualLP1 += 5*y1 + 7*y2 + 3*y3 >=9\n",
    "dualLP1 += 7*y1 + 5*y2 + 12*y3 >=2\n",
    "dualLP1 += -2*y1 + 4*y2 - 5*y3 >=1\n",
    "\n",
    "dualLP1.solve()\n",
    "print(\"Solution of dual:\")\n",
    "#Print out the optimal objective value of primalLP\n",
    "print(dualLP1.objective.value())\n",
    "#Print out optimal vertex.\n",
    "for v in dualLP1.variables():\n",
    "    print(str(v) + \" = \" + str(v.value()))\n",
    "print(\"Status: \" + str( pulp.LpStatus[dualLP1.status]) )"
   ]
  },
  {
   "cell_type": "markdown",
   "metadata": {},
   "source": [
    "Note: The small difference in the optimal value was caused by bad rounding"
   ]
  },
  {
   "cell_type": "code",
   "execution_count": 3,
   "metadata": {},
   "outputs": [
    {
     "name": "stdout",
     "output_type": "stream",
     "text": [
      "Solution of primal:\n",
      "2.9000000000000004\n",
      "x1 = 0.2\n",
      "x2 = 0.0\n",
      "x3 = 0.0\n",
      "x4 = 2.1\n",
      "Status: Optimal\n",
      "Solution of dual:\n",
      "4.0\n",
      "y1 = 0.0\n",
      "y2 = 0.0\n",
      "y3 = 0.2\n",
      "Status: Unbounded\n"
     ]
    }
   ],
   "source": [
    "#Optional Task:\n",
    "\n",
    "#Create the LP\n",
    "primalLP1 = pulp.LpProblem(\"Primal1\", pulp.LpMaximize)\n",
    "dualLP1 = pulp.LpProblem(\"Dual1\", pulp.LpMaximize)\n",
    "\n",
    "#Create the variables\n",
    "#If you want to automate this you can use dictionaries, I will just define it\n",
    "x1 = pulp.LpVariable('x1', lowBound=0, cat=pulp.LpContinuous)\n",
    "x2 = pulp.LpVariable('x2', lowBound=0, cat=pulp.LpContinuous)\n",
    "x3 = pulp.LpVariable('x3', lowBound=0, cat=pulp.LpContinuous)\n",
    "x4 = pulp.LpVariable('x4', lowBound=0, cat=pulp.LpContinuous)\n",
    "y1 = pulp.LpVariable('y1', lowBound=0, cat=pulp.LpContinuous)\n",
    "y2 = pulp.LpVariable('y2', lowBound=0, cat=pulp.LpContinuous)\n",
    "y3 = pulp.LpVariable('y3', lowBound=0, cat=pulp.LpContinuous)\n",
    "\n",
    "#Tableau\n",
    "P = np.matrix([\n",
    "    [-4,-9,-2,-1, 0],\n",
    "    [1 , 5, 7,-2,-4],\n",
    "    [3 , 7, 5, 4, 9],\n",
    "    [3 , 3,12,-5,20]\n",
    "])\n",
    "D = toDual(P)\n",
    "\n",
    "obj = True\n",
    "for row in P:\n",
    "    if (obj==True):\n",
    "        primalLP1 += -row.item(0)*x1-row.item(1)*x2-row.item(2)*x3-row.item(3)*x4\n",
    "        obj=False\n",
    "    else:\n",
    "        primalLP1 += row.item(0)*x1+row.item(1)*x2+row.item(2)*x3+row.item(3)*x4 <= row.item(4)\n",
    "\n",
    "\n",
    "obj = True\n",
    "for row in D:\n",
    "    if (obj==True):\n",
    "        dualLP1 += -row.item(0)*y1-row.item(1)*y2-row.item(2)*y3\n",
    "        obj=False\n",
    "    else:\n",
    "        dualLP1 += row.item(0)*y1+row.item(1)*y2+row.item(2)*y3 <= row.item(3)\n",
    "\n",
    "\n",
    "\n",
    "primalLP1.solve()\n",
    "print(\"Solution of primal:\")\n",
    "#Print out the optimal objective value of primalLP\n",
    "print(primalLP1.objective.value())\n",
    "#Print out optimal vertex.\n",
    "for v in primalLP1.variables():\n",
    "    print(str(v) + \" = \" + str(v.value()))\n",
    "print(\"Status: \" + str( pulp.LpStatus[primalLP1.status]) )\n",
    "dualLP1.solve()\n",
    "print(\"Solution of dual:\")\n",
    "#Print out the optimal objective value of primalLP\n",
    "print(dualLP1.objective.value())\n",
    "#Print out optimal vertex.\n",
    "for v in dualLP1.variables():\n",
    "    print(str(v) + \" = \" + str(v.value()))\n",
    "print(\"Status: \" + str( pulp.LpStatus[dualLP1.status]) )"
   ]
  },
  {
   "cell_type": "markdown",
   "metadata": {},
   "source": [
    "In the following examples we want to check if our results are in accordance with what we have seen in the script, focussing primarily on `Figure 3.1`.\n",
    "\n",
    "### 2.2 Example 2\n",
    "Given the following LP compute the primal and dual solution.\n",
    "\n",
    "$$\\begin{equation}\n",
    "\\begin{array}\n",
    "\\\\max \\ z = & 4x_1 & + & 9x_2 & + & 2x_3 & + &  x_4, &      &   \\\\\n",
    "s.t:        & x_1  & + & 5x_2 & + & 7x_3 & + & 2x_4  & \\leq & -4\\\\\n",
    "            & 3x_1 & + & 7x_2 & + & 5x_3 &   &       & \\leq &  9\\\\\n",
    "            & 3x_1 & + & 3x_2 & + & 12x_3& + & 5x_4  & \\leq & 20\\\\\n",
    "\\end{array}\\\\\n",
    "        x_1\\geq 0,x_2\\geq 0,x_3\\geq 0,x_4\\geq 0.\n",
    "\\end{equation}$$\n",
    "\n",
    "To solve the problems, use either your own Simplex-Method from last week or compute the optimal solutions using pulp."
   ]
  },
  {
   "cell_type": "markdown",
   "metadata": {},
   "source": [
    "The corresponding dual is:\n",
    "$$\\begin{equation}\n",
    "\\begin{array}\n",
    "\\\\min \\ w = & -4y_1 & + & 9y_2  & + & 20y_3 &      &   \\\\\n",
    "s.t:        & y_1   & + & 3y_2  & + & 3y_3  & \\leq & 4 \\\\\n",
    "            & 5y_1  & + & 7y_2  & + & 3y_3  & \\leq & 9 \\\\\n",
    "            & 7y_1  & + & 5y_2  & + & 12y_3 & \\leq & 2 \\\\\n",
    "            & 2y_1  &   &       & + & 5y_3  & \\leq & 1 \\\\\n",
    "\\end{array}\\\\\n",
    "        y_1\\geq 0,y_2\\geq 0,y_3\\geq0.\n",
    "\\end{equation}$$"
   ]
  },
  {
   "cell_type": "code",
   "execution_count": 4,
   "metadata": {
    "scrolled": true
   },
   "outputs": [
    {
     "name": "stdout",
     "output_type": "stream",
     "text": [
      "Solution of primal:\n",
      "Status: Infeasible\n",
      "Solution of dual:\n",
      "Status: Unbounded\n"
     ]
    }
   ],
   "source": [
    "import pulp\n",
    "\n",
    "#Create the LP\n",
    "primalLP2 = pulp.LpProblem(\"Primal2\", pulp.LpMaximize)\n",
    "\n",
    "#Create the variables\n",
    "x1 = pulp.LpVariable('x1', lowBound=0, cat=pulp.LpContinuous)\n",
    "x2 = pulp.LpVariable('x2', lowBound=0, cat=pulp.LpContinuous)\n",
    "x3 = pulp.LpVariable('x3', lowBound=0, cat=pulp.LpContinuous)\n",
    "x4 = pulp.LpVariable('x4', lowBound=0, cat=pulp.LpContinuous)\n",
    "\n",
    "#Add the objective function\n",
    "primalLP2 += 4*x1 + 9*x2 + 2*x3 + x4\n",
    "\n",
    "#Add the constraints\n",
    "primalLP2 += x1 + 5*x2 + 7*x3 + 2*x4 <= -4\n",
    "primalLP2 += 3*x1 + 7*x2 + 5*x3  <= 9\n",
    "primalLP2 += 3*x1 + 3*x2 + 12*x3 + 5*x4 <= 20\n",
    "\n",
    "primalLP2.solve()\n",
    "print(\"Solution of primal:\")\n",
    "print(\"Status: \" + str( pulp.LpStatus[primalLP2.status]) )\n",
    "\n",
    "#Create the LP\n",
    "dualLP2 = pulp.LpProblem(\"Dual2\", pulp.LpMinimize)\n",
    "\n",
    "#Create the variables\n",
    "y1 = pulp.LpVariable('y1', lowBound=0, cat=pulp.LpContinuous)\n",
    "y2 = pulp.LpVariable('y2', lowBound=0, cat=pulp.LpContinuous)\n",
    "y3 = pulp.LpVariable('y3', lowBound=0, cat=pulp.LpContinuous)\n",
    "\n",
    "\n",
    "#Add the objective function\n",
    "dualLP2 += -4*y1 + 9*y2 + 20*y3\n",
    "\n",
    "#Add the constraints\n",
    "dualLP2 += y1 + 3*y2 + 3*y3 >=4\n",
    "dualLP2 += 5*y1 + 7*y2 + 3*y3 >=9\n",
    "dualLP2 += 7*y1 + 5*y2 + 12*y3 >=2\n",
    "dualLP2 += 2*y1          + 5*y3 >=1\n",
    "\n",
    "dualLP2.solve()\n",
    "print(\"Solution of dual:\")\n",
    "print(\"Status: \" + str( pulp.LpStatus[dualLP2.status]) )"
   ]
  },
  {
   "cell_type": "markdown",
   "metadata": {},
   "source": [
    "### 2.3 Example 3\n",
    "Given the following LP compute the primal and dual solution.\n",
    "\n",
    "$$\\begin{equation}\n",
    "\\begin{array}\n",
    "\\\\max \\ z = & 2x_1 & - &  x_2 & - &  x_3 & - & 8x_4, &      &   \\\\\n",
    "s.t:        & x_1  & - &  x_2 & - &  x_3 & - &  x_4  & \\leq &  1\\\\\n",
    "            & -1x_1& + &  x_2 & + & 3x_3 & + & 4x_4  & \\leq & -9\\\\\n",
    "            & 15x_1& + & 2x_2 & - &100x_3& + & 3x_4  & \\leq &-20\\\\\n",
    "\\end{array}\\\\\n",
    "        x_1\\geq 0,x_2\\geq 0,x_3\\geq 0,x_4\\geq 0.\n",
    "\\end{equation}$$\n",
    "\n",
    "To solve the problems, use either your own Simplex-Method from last week or compute the optimal solutions using pulp."
   ]
  },
  {
   "cell_type": "markdown",
   "metadata": {},
   "source": [
    "The corresponding dual is:\n",
    "$$\\begin{equation}\n",
    "\\begin{array}\n",
    "\\\\min \\ w = &   y_1  & - & 9y_2  & - & 20y_3 &      &   \\\\\n",
    "s.t:        & y_1    & - &  y_2  & + & 15y_3 & \\geq & 2 \\\\\n",
    "            & -1y_1  & + &  y_2  & + & 2y_3  & \\geq &-1 \\\\\n",
    "            & -1y_1  & + & 3y_2  & - &100y_3 & \\geq &-1 \\\\\n",
    "            & -1y_1  & + & 4y_2  & + & 3y_3  & \\geq &-8 \\\\\n",
    "\\end{array}\\\\\n",
    "        y_1\\geq 0,y_2\\geq 0,y_3\\geq0.\n",
    "\\end{equation}$$"
   ]
  },
  {
   "cell_type": "code",
   "execution_count": 5,
   "metadata": {
    "scrolled": true
   },
   "outputs": [
    {
     "name": "stdout",
     "output_type": "stream",
     "text": [
      "Solution of primal:\n",
      "Status: Infeasible\n",
      "Solution of dual:\n",
      "Status: Infeasible\n"
     ]
    }
   ],
   "source": [
    "import pulp\n",
    "\n",
    "#Create the LP\n",
    "primalLP3 = pulp.LpProblem(\"Primal3\", pulp.LpMaximize)\n",
    "\n",
    "#Create the variables\n",
    "x1 = pulp.LpVariable('x1', lowBound=0, cat=pulp.LpContinuous)\n",
    "x2 = pulp.LpVariable('x2', lowBound=0, cat=pulp.LpContinuous)\n",
    "x3 = pulp.LpVariable('x3', lowBound=0, cat=pulp.LpContinuous)\n",
    "x4 = pulp.LpVariable('x4', lowBound=0, cat=pulp.LpContinuous)\n",
    "\n",
    "#Add the objective function\n",
    "primalLP3 += 2*x1 - x2 - x3 - 8*x4\n",
    "\n",
    "#Add the constraints\n",
    "primalLP3 +=  x1   - x2 -  x3 -  x4  <= 1\n",
    "primalLP3 += -1*x1 + x2 + 3*x3 + 4*x4 <= -9\n",
    "primalLP3 +=  15*x1 + 2*x2 -100*x3 + 3*x4 <= -20\n",
    "\n",
    "primalLP3.solve()\n",
    "print(\"Solution of primal:\")\n",
    "print(\"Status: \" + str( pulp.LpStatus[primalLP3.status]) )\n",
    "\n",
    "#Create the LP\n",
    "dualLP3 = pulp.LpProblem(\"Dual3\", pulp.LpMinimize)\n",
    "\n",
    "#Create the variables\n",
    "y1 = pulp.LpVariable('y1', lowBound=0, cat=pulp.LpContinuous)\n",
    "y2 = pulp.LpVariable('y2', lowBound=0, cat=pulp.LpContinuous)\n",
    "y3 = pulp.LpVariable('y3', lowBound=0, cat=pulp.LpContinuous)\n",
    "\n",
    "\n",
    "#Add the objective function\n",
    "dualLP3 += -4*y1 - 9*y2 - 20*y3\n",
    "\n",
    "#Add the constraints\n",
    "dualLP3 += y1    -   y2 + 15*y3  >=2\n",
    "dualLP3 += -1*y1 +   y2 + 2*y3   >=-1\n",
    "dualLP3 += -1*y1 + 3*y3 - 100*y3 >=-1\n",
    "dualLP3 += -1*y1 + 4*y2 + 3*y3   >=-8\n",
    "\n",
    "dualLP3.solve()\n",
    "print(\"Solution of dual:\")\n",
    "print(\"Status: \" + str( pulp.LpStatus[dualLP3.status]) )"
   ]
  },
  {
   "cell_type": "markdown",
   "metadata": {},
   "source": [
    "### 2.4 Example 4\n",
    "Given the following LP compute the primal and dual solution.\n",
    "\n",
    "$$\\begin{equation}\n",
    "\\begin{array}\n",
    "\\\\max \\ z = & 4x_1 & + & 9x_2 & + & 2x_3 & + &  x_4, &      &   \\\\\n",
    "s.t:        & x_1  & + & 5x_2 & - & 7x_3 & + & 2x_4  & \\leq & 4 \\\\\n",
    "            & 3x_1 & + & 7x_2 & - & 5x_3 &   &       & \\leq & 20\\\\\n",
    "            & -3x_1& + & 3x_2 & + & 12x_3& - & 5x_4  & \\leq & 8 \\\\\n",
    "\\end{array}\\\\\n",
    "        x_1\\geq 0,x_2\\geq 0,x_3\\geq 0,x_4\\geq 0.\n",
    "\\end{equation}$$\n",
    "\n",
    "To solve the problems, use either your own Simplex-Method from last week or compute the optimal solutions using pulp."
   ]
  },
  {
   "cell_type": "markdown",
   "metadata": {},
   "source": [
    "The corresponding dual is:\n",
    "$$\\begin{equation}\n",
    "\\begin{array}\n",
    "\\\\min \\ w = & 4y_1  & + & 20y_2 & + & 8y_3  &      &   \\\\\n",
    "s.t:        & y_1   & + & 3y_2  & - & 3y_3  & \\geq & 4 \\\\\n",
    "            & 5y_1  & + & 7y_2  & + & 3y_3  & \\geq & 9 \\\\\n",
    "            & -7y_1 & - & 5y_2  & + & 12y_3 & \\geq & 2 \\\\\n",
    "            & 2y_1  &   &       & - & 5y_3 &  \\geq & 1 \\\\\n",
    "\\end{array}\\\\\n",
    "        y_1\\geq 0,y_2\\geq 0,y_3\\geq0.\n",
    "\\end{equation}$$"
   ]
  },
  {
   "cell_type": "code",
   "execution_count": 6,
   "metadata": {
    "scrolled": false
   },
   "outputs": [
    {
     "name": "stdout",
     "output_type": "stream",
     "text": [
      "Solution of primal:\n",
      "Status: Unbounded\n",
      "Solution of dual:\n",
      "Status: Infeasible\n"
     ]
    }
   ],
   "source": [
    "import pulp\n",
    "\n",
    "#Create the LP\n",
    "primalLP4 = pulp.LpProblem(\"Primal4\", pulp.LpMaximize)\n",
    "\n",
    "#Create the variables\n",
    "x1 = pulp.LpVariable('x1', lowBound=0, cat=pulp.LpContinuous)\n",
    "x2 = pulp.LpVariable('x2', lowBound=0, cat=pulp.LpContinuous)\n",
    "x3 = pulp.LpVariable('x3', lowBound=0, cat=pulp.LpContinuous)\n",
    "x4 = pulp.LpVariable('x4', lowBound=0, cat=pulp.LpContinuous)\n",
    "\n",
    "#Add the objective function\n",
    "primalLP4 += 4*x1 + 9*x2 + 2*x3 + x4\n",
    "\n",
    "#Add the constraints\n",
    "primalLP4 += x1 + 5*x2 - 7*x3 + 2*x4 <= 4\n",
    "primalLP4 += 3*x1 + 7*x2 - 5*x3  <= 20\n",
    "primalLP4 += -3*x1 + 3*x2 + 12*x3 - 5*x4 <= 8\n",
    "\n",
    "primalLP4.solve()\n",
    "print(\"Solution of primal:\")\n",
    "print(\"Status: \" + str( pulp.LpStatus[primalLP4.status]) )\n",
    "\n",
    "#Create the LP\n",
    "dualLP4 = pulp.LpProblem(\"Dual4\", pulp.LpMinimize)\n",
    "\n",
    "#Create the variables\n",
    "y1 = pulp.LpVariable('y1', lowBound=0, cat=pulp.LpContinuous)\n",
    "y2 = pulp.LpVariable('y2', lowBound=0, cat=pulp.LpContinuous)\n",
    "y3 = pulp.LpVariable('y3', lowBound=0, cat=pulp.LpContinuous)\n",
    "\n",
    "\n",
    "#Add the objective function\n",
    "dualLP4 += 4*y1 + 20*y2 + 8*y3\n",
    "\n",
    "#Add the constraints\n",
    "dualLP4 += y1 + 3*y2 - 3*y3 >=4\n",
    "dualLP4 += 5*y1 + 7*y2 + 3*y3 >=9\n",
    "dualLP4 += -7*y1 - 5*y2 + 12*y3 >=2\n",
    "dualLP4 += 2*y1          - 5*y3 >=1\n",
    "\n",
    "dualLP4.solve()\n",
    "print(\"Solution of dual:\")\n",
    "print(\"Status: \" + str( pulp.LpStatus[dualLP4.status]) )"
   ]
  },
  {
   "cell_type": "markdown",
   "metadata": {},
   "source": [
    "### 2.5\n",
    "Compare your results with `Figure 3.1` from the script."
   ]
  },
  {
   "cell_type": "markdown",
   "metadata": {},
   "source": [
    "The results of our 4 examples are in accordance with the table in the script."
   ]
  }
 ],
 "metadata": {
  "kernelspec": {
   "display_name": "Python 3",
   "language": "python",
   "name": "python3"
  },
  "language_info": {
   "codemirror_mode": {
    "name": "ipython",
    "version": 3
   },
   "file_extension": ".py",
   "mimetype": "text/x-python",
   "name": "python",
   "nbconvert_exporter": "python",
   "pygments_lexer": "ipython3",
   "version": "3.7.7"
  }
 },
 "nbformat": 4,
 "nbformat_minor": 4
}
