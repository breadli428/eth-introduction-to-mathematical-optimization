{
 "cells": [
  {
   "cell_type": "markdown",
   "metadata": {},
   "source": [
    "# Factory Product Planning\n",
    "\n",
    "<b>Goal.</b> Set up and solve an integer program with `pulp`.\n",
    "\n",
    "A factory with 100 engineers and 180 technicians makes products <b>A</b>, <b>B</b>, and <b>C</b>. The value of product <b>A</b> is 10'000 CHF, the value of product <b>B</b> is 12'000 CHF, and the value of product <b>C</b> is 9'000 CHF. In order to make a certain product, the factory must assign personnel to operate a workstation that produces that specific product. The following shows how many personnel of each type are required to operate a single workstation:\n",
    "\n",
    "- workstation for product <b>A</b>: 3 engineers and 10 technicians,\n",
    "- workstation for product <b>B</b>: 5 engineers and 7 technicians,\n",
    "- workstation for product <b>C</b>: 2 engineers and 17 technicians.\n",
    "\n",
    "Assume that the number of workstations of each kind is unlimited, but each employee can be assigned to operate at most one workstation each day. Each workstation produces exactly one product per day (so, as an example, if the factory wants to produce two units of product <b>A</b>, then it must assign two separate sets of personnel to two workstations for product <b>A</b>).\n",
    "\n",
    "<b>Your Task:</b> Determine how many workstations of each type the factory should operate if they want to maximize the total value of produced products in one day. To do this, write down an <b>Integer Linear Program</b>, then set it up and solve it with `pulp`.\n",
    "\n",
    "<i>Remark</i>: Recall that an integer linear program is obtained by adding integrality constraints of the form “$x \\in \\mathbb{Z}$” to a linear program. In `pulp`, this is done when setting up variables."
   ]
  },
  {
   "cell_type": "markdown",
   "metadata": {},
   "source": [
    "## Solution\n",
    "\n",
    "Here is the integer program that models the problem:\n",
    "\n",
    "\\begin{array}{rcrcrcrcr}\n",
    "\\max\t    &   & 10000 x_A & + & 12000 x_B & + & 9000 x_C & & \\\\\n",
    "\\text{s.t.} &   &     3 x_A & + &     5 x_B & + &    2 x_C & \\leq & 100 \\\\\n",
    "            &   &    10 x_A & + &     7 x_B & + &   17 x_c & \\leq & 180 \\\\\n",
    "            &   &       x_A & , &       x_B & , &      x_C & \\in  & \\mathbb{Z}_{\\geq 0}\n",
    "\\end{array}"
   ]
  },
  {
   "cell_type": "code",
   "execution_count": 1,
   "metadata": {},
   "outputs": [],
   "source": [
    "import pulp\n",
    "\n",
    "# Set up the optimization program\n",
    "factory_ip = pulp.LpProblem(\"Factory Product Planning\", pulp.LpMaximize)"
   ]
  },
  {
   "cell_type": "code",
   "execution_count": 2,
   "metadata": {},
   "outputs": [],
   "source": [
    "# Create the variables\n",
    "# Reminder: The variables need to be integer\n",
    "xA = pulp.LpVariable('x_A', lowBound=0, cat=pulp.LpInteger)\n",
    "xB = pulp.LpVariable('x_B', lowBound=0, cat=pulp.LpInteger)\n",
    "xC = pulp.LpVariable('x_C', lowBound=0, cat=pulp.LpInteger)"
   ]
  },
  {
   "cell_type": "code",
   "execution_count": 3,
   "metadata": {},
   "outputs": [],
   "source": [
    "# Add the objective function\n",
    "factory_ip += 10000*xA + 12000*xB + 9000*xC"
   ]
  },
  {
   "cell_type": "code",
   "execution_count": 4,
   "metadata": {},
   "outputs": [],
   "source": [
    "# Add the constraints\n",
    "factory_ip += 3*xA + 5*xB + 2*xC <= 100\n",
    "factory_ip += 10*xA + 7*xB + 17*xC <= 180"
   ]
  },
  {
   "cell_type": "code",
   "execution_count": 5,
   "metadata": {},
   "outputs": [
    {
     "data": {
      "text/plain": [
       "Factory Product Planning:\n",
       "MAXIMIZE\n",
       "10000*x_A + 12000*x_B + 9000*x_C + 0\n",
       "SUBJECT TO\n",
       "_C1: 3 x_A + 5 x_B + 2 x_C <= 100\n",
       "\n",
       "_C2: 10 x_A + 7 x_B + 17 x_C <= 180\n",
       "\n",
       "VARIABLES\n",
       "0 <= x_A Integer\n",
       "0 <= x_B Integer\n",
       "0 <= x_C Integer"
      ]
     },
     "execution_count": 5,
     "metadata": {},
     "output_type": "execute_result"
    }
   ],
   "source": [
    "#print LP\n",
    "\n",
    "factory_ip"
   ]
  },
  {
   "cell_type": "code",
   "execution_count": 6,
   "metadata": {},
   "outputs": [
    {
     "data": {
      "text/plain": [
       "1"
      ]
     },
     "execution_count": 6,
     "metadata": {},
     "output_type": "execute_result"
    }
   ],
   "source": [
    "# Solve the IP\n",
    "factory_ip.solve()"
   ]
  },
  {
   "cell_type": "code",
   "execution_count": 7,
   "metadata": {},
   "outputs": [
    {
     "name": "stdout",
     "output_type": "stream",
     "text": [
      "254000.0\n",
      "x_A = 5.0\n",
      "x_B = 17.0\n",
      "x_C = 0.0\n"
     ]
    }
   ],
   "source": [
    "# Print the optimal value and an optimal solution\n",
    "print(factory_ip.objective.value())\n",
    "\n",
    "for v in factory_ip.variables():\n",
    "    print(str(v) + \" = \" + str(v.value()))"
   ]
  },
  {
   "cell_type": "markdown",
   "metadata": {},
   "source": [
    "<b>Optional task:</b> Check that if the integrality condition is removed, then the optimal solution changes."
   ]
  },
  {
   "cell_type": "code",
   "execution_count": 8,
   "metadata": {},
   "outputs": [
    {
     "name": "stdout",
     "output_type": "stream",
     "text": [
      "259310.345\n",
      "y_A = 6.8965517\n",
      "y_B = 15.862069\n",
      "y_C = 0.0\n"
     ]
    }
   ],
   "source": [
    "factory_lp = pulp.LpProblem(\"Factory Product Planning with Continuous Variables\", pulp.LpMaximize)\n",
    "\n",
    "yA = pulp.LpVariable('y_A', lowBound=0, cat=pulp.LpContinuous)\n",
    "yB = pulp.LpVariable('y_B', lowBound=0, cat=pulp.LpContinuous)\n",
    "yC = pulp.LpVariable('y_C', lowBound=0, cat=pulp.LpContinuous)\n",
    "\n",
    "factory_lp += 10000*yA + 12000*yB + 9000*yC\n",
    "\n",
    "factory_lp += 3*yA + 5*yB + 2*yC <= 100\n",
    "factory_lp += 10*yA + 7*yB + 17*yC <= 180\n",
    "\n",
    "factory_lp.solve()\n",
    "\n",
    "print(factory_lp.objective.value())\n",
    "\n",
    "for v in factory_lp.variables():\n",
    "    print(str(v) + \" = \" + str(v.value()))"
   ]
  }
 ],
 "metadata": {
  "kernelspec": {
   "display_name": "Python 3",
   "language": "python",
   "name": "python3"
  },
  "language_info": {
   "codemirror_mode": {
    "name": "ipython",
    "version": 3
   },
   "file_extension": ".py",
   "mimetype": "text/x-python",
   "name": "python",
   "nbconvert_exporter": "python",
   "pygments_lexer": "ipython3",
   "version": "3.7.7"
  }
 },
 "nbformat": 4,
 "nbformat_minor": 4
}
