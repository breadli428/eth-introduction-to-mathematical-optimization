{
 "cells": [
  {
   "cell_type": "markdown",
   "metadata": {},
   "source": [
    "# Introduction to `numpy`\n",
    "`numpy` (short for numeric python) allows for a diverse range of scientific computations. For us, however, it will be a tool to compute matrix multiplications.\n",
    "\n",
    "### Installation\n",
    "You can install `numpy` using the following commands:\n",
    "\n",
    "\n",
    "using `pip`: `pip install numpy`\\\n",
    "using `Anaconda`: `conda install numpy`\n",
    "\n",
    "### Feeding a matrix to `numpy`\n",
    "The following code shows how to store the matrix\n",
    "$$A:=\\begin{bmatrix}1&3\\\\4&5\\end{bmatrix}$$\n",
    "in `numpy`: as a list of lists which correspond to the row vectors of $A$."
   ]
  },
  {
   "cell_type": "code",
   "execution_count": 1,
   "metadata": {},
   "outputs": [
    {
     "data": {
      "text/plain": [
       "matrix([[1, 3],\n",
       "        [4, 5]])"
      ]
     },
     "execution_count": 1,
     "metadata": {},
     "output_type": "execute_result"
    }
   ],
   "source": [
    "# Import the package\n",
    "import numpy as np\n",
    "\n",
    "A = np.matrix([\n",
    "    [1,3],\n",
    "    [4,5]\n",
    "])\n",
    "\n",
    "A"
   ]
  },
  {
   "cell_type": "markdown",
   "metadata": {},
   "source": [
    "### Matrix multiplication\n",
    "Consider $B:=\\begin{bmatrix}1&5&4\\\\6&9&0\\end{bmatrix}$. Then $A\\cdot B$ is computed in `numpy` via the `matmul` function:"
   ]
  },
  {
   "cell_type": "code",
   "execution_count": 2,
   "metadata": {},
   "outputs": [
    {
     "data": {
      "text/plain": [
       "matrix([[19, 32,  4],\n",
       "        [34, 65, 16]])"
      ]
     },
     "execution_count": 2,
     "metadata": {},
     "output_type": "execute_result"
    }
   ],
   "source": [
    "B = np.matrix([\n",
    "    [1,5,4],\n",
    "    [6,9,0]\n",
    "])\n",
    "\n",
    "np.matmul(A,B)"
   ]
  },
  {
   "cell_type": "markdown",
   "metadata": {},
   "source": [
    "### Matrix transposes\n",
    "To calculate $A^T$, use the `np.transpose` function:"
   ]
  },
  {
   "cell_type": "code",
   "execution_count": 3,
   "metadata": {},
   "outputs": [
    {
     "data": {
      "text/plain": [
       "matrix([[1, 4],\n",
       "        [3, 5]])"
      ]
     },
     "execution_count": 3,
     "metadata": {},
     "output_type": "execute_result"
    }
   ],
   "source": [
    "np.transpose(A)"
   ]
  },
  {
   "cell_type": "markdown",
   "metadata": {},
   "source": [
    "### Working with matrix inverses\n",
    "The inverse $A^{-1}$ of $A$ can be calculated using `linalg.inv`:\n",
    "\n",
    "**Note**: Using the inverse explicitly can lead to numerical instabilities. We will try to avoid it if possible and use \"work-araounds\".<br>\n",
    "**Example**: To get the solution for a system of form $A=xB$, we don't compute $x$ by $x = A^{-1}B$ but instead use the numpy function `linalg.solve`."
   ]
  },
  {
   "cell_type": "code",
   "execution_count": 4,
   "metadata": {},
   "outputs": [
    {
     "name": "stdout",
     "output_type": "stream",
     "text": [
      "[[-0.71428571  0.42857143]\n",
      " [ 0.57142857 -0.14285714]]\n",
      "\n",
      "[[ 1.85714286  0.28571429 -2.85714286]\n",
      " [-0.28571429  1.57142857  2.28571429]]\n",
      "\n",
      "[[ 1.85714286  0.28571429 -2.85714286]\n",
      " [-0.28571429  1.57142857  2.28571429]]\n"
     ]
    }
   ],
   "source": [
    "A_inv = np.linalg.inv(A)\n",
    "\n",
    "print(A_inv)\n",
    "print()\n",
    "print(np.matmul(A_inv, B))\n",
    "print()\n",
    "print(np.linalg.solve(A,B))"
   ]
  },
  {
   "cell_type": "markdown",
   "metadata": {},
   "source": [
    "Here we don't see a difference, as $A$ isn't ill-condidioned. With other $A$s it would change.<br>\n",
    "You can try to find an A where using the direct inverse gives you a different solution to x as using `linalg.solve`. "
   ]
  },
  {
   "cell_type": "markdown",
   "metadata": {},
   "source": [
    "### Row/column manipulation using `numpy`\n",
    "\n",
    "To access the $i$-th row we use the following command:\n",
    "`A[i,:]`\n",
    "(keep in mind, we start counting from 0).\n",
    "\n",
    "Similarly to access the $i$-th colum we use:\n",
    "`A[:,i]`."
   ]
  },
  {
   "cell_type": "code",
   "execution_count": 5,
   "metadata": {},
   "outputs": [
    {
     "name": "stdout",
     "output_type": "stream",
     "text": [
      "[[1 3]]\n",
      "\n",
      "[[3]\n",
      " [5]]\n"
     ]
    }
   ],
   "source": [
    "#First row of A\n",
    "print(A[0,:])\n",
    "print()\n",
    "\n",
    "#Second column of A\n",
    "print(A[:,1])"
   ]
  },
  {
   "cell_type": "markdown",
   "metadata": {},
   "source": [
    "### Number of rows and columns in a matrix\n",
    "\n",
    "To get the number of **rows** in a matrix use: `A.shape[0]`.<br>\n",
    "To get the number of **columns** in a matrix use: `A.shape[1]`.<br>\n",
    "$B$ is used as an example, as $A$ is a square matrix and it doesn't make it clear that those are seperate outputs."
   ]
  },
  {
   "cell_type": "code",
   "execution_count": 6,
   "metadata": {},
   "outputs": [
    {
     "name": "stdout",
     "output_type": "stream",
     "text": [
      "Rows: 2\n",
      "Columns: 3\n"
     ]
    }
   ],
   "source": [
    "#Rows\n",
    "print(\"Rows: \" + str(B.shape[0]))\n",
    "print(\"Columns: \" + str(B.shape[1]))"
   ]
  },
  {
   "cell_type": "markdown",
   "metadata": {},
   "source": [
    "### Accessing elements of the matrix\n",
    "\n",
    "To get the element $a_{i,j}$ we use:\n",
    "`A[i,j]`."
   ]
  },
  {
   "cell_type": "code",
   "execution_count": 7,
   "metadata": {},
   "outputs": [
    {
     "name": "stdout",
     "output_type": "stream",
     "text": [
      "3\n"
     ]
    }
   ],
   "source": [
    "#Element in first row, second column\n",
    "a_01 = A[0,1]\n",
    "print(a_01)"
   ]
  }
 ],
 "metadata": {
  "kernelspec": {
   "display_name": "Python 3",
   "language": "python",
   "name": "python3"
  },
  "language_info": {
   "codemirror_mode": {
    "name": "ipython",
    "version": 3
   },
   "file_extension": ".py",
   "mimetype": "text/x-python",
   "name": "python",
   "nbconvert_exporter": "python",
   "pygments_lexer": "ipython3",
   "version": "3.8.3"
  }
 },
 "nbformat": 4,
 "nbformat_minor": 4
}
