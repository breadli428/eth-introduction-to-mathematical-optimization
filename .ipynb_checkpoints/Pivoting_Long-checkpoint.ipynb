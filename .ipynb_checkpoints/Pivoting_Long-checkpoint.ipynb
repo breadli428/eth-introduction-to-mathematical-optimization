{
 "cells": [
  {
   "cell_type": "markdown",
   "metadata": {},
   "source": [
    "# The Simplex Method\n",
    "\n",
    "**Goal**: Solve an LP using the 2-phase simplex algorithm.\n"
   ]
  },
  {
   "cell_type": "code",
   "execution_count": 1,
   "metadata": {},
   "outputs": [],
   "source": [
    "# You're given the pivot function from last weeks programming assignment\n",
    "import numpy as np\n",
    "\n",
    "def pivot(T,i,k):\n",
    "    T_pivot = np.copy(T)\n",
    "    T_pivot[i,:] = T[i,:] / T[i,k] #Step (i)\n",
    "    for l in range(0,T.shape[1]): #Step (ii)\n",
    "        for j in range(0,T.shape[0]):\n",
    "            if(j!=i):\n",
    "                T_pivot[j,l] = T[j,l] - T[j,k] * T[i,l] / T[i,k]\n",
    "    return T_pivot\n"
   ]
  },
  {
   "cell_type": "code",
   "execution_count": 2,
   "metadata": {},
   "outputs": [],
   "source": [
    "# Write down the tableau of the auxiliary LP\n",
    "\n",
    "T = np.array([\n",
    "    [0, 0, 0, 0, 0, 0, 0, 1, 0],\n",
    "    [1, 0, 0, 0, 0, 1, 3,-1,15],\n",
    "    [0, 1, 0, 0, 0, 3,-1,-1,-6],\n",
    "    [0, 0, 1, 0, 0, 1, 0,-1, 4],\n",
    "    [0, 0, 0, 1, 0, 2, 1,-1,10],\n",
    "    [0, 0, 0, 0, 1,-1,-1,-1,-3]\n",
    "], dtype=float)\n"
   ]
  },
  {
   "cell_type": "code",
   "execution_count": 3,
   "metadata": {
    "scrolled": true
   },
   "outputs": [
    {
     "name": "stdout",
     "output_type": "stream",
     "text": [
      "[[ 0.  1.  0.  0.  0.  3. -1.  0. -6.]\n",
      " [ 1. -1.  0.  0.  0. -2.  4.  0. 21.]\n",
      " [-0. -1. -0. -0. -0. -3.  1.  1.  6.]\n",
      " [ 0. -1.  1.  0.  0. -2.  1.  0. 10.]\n",
      " [ 0. -1.  0.  1.  0. -1.  2.  0. 16.]\n",
      " [ 0. -1.  0.  0.  1. -4.  0.  0.  3.]]\n"
     ]
    }
   ],
   "source": [
    "# Perform an exchange step on the tableau, such that the resulting tableau is feasible\n",
    "\n",
    "T = pivot(T,2,7) # exchange x_0 and y_2, i. e. pivot on position (3,8)\n",
    "print(T)"
   ]
  },
  {
   "cell_type": "code",
   "execution_count": null,
   "metadata": {},
   "outputs": [],
   "source": []
  },
  {
   "cell_type": "code",
   "execution_count": null,
   "metadata": {},
   "outputs": [],
   "source": []
  },
  {
   "cell_type": "code",
   "execution_count": null,
   "metadata": {},
   "outputs": [],
   "source": []
  },
  {
   "cell_type": "code",
   "execution_count": null,
   "metadata": {},
   "outputs": [],
   "source": []
  },
  {
   "cell_type": "code",
   "execution_count": null,
   "metadata": {},
   "outputs": [],
   "source": []
  },
  {
   "cell_type": "code",
   "execution_count": 4,
   "metadata": {},
   "outputs": [
    {
     "name": "stdout",
     "output_type": "stream",
     "text": [
      "[[ 0.  0.  0. -1. -1.  0.  3.]\n",
      " [ 1.  0.  0.  3. -2.  0.  6.]\n",
      " [ 0.  1.  0.  0.  1.  0.  4.]\n",
      " [ 0.  0.  1.  1.  1.  0.  7.]\n",
      " [-0. -0. -0. -1.  1.  1.  3.]]\n"
     ]
    }
   ],
   "source": [
    "# Redo phase I, but this time already keep track of the original objective\n",
    "\n",
    "T = np.array([\n",
    "    [0, 0, 0, 0, 0, 0, 1, 0],\n",
    "    [0, 0, 0, 0,-2,-1, 0, 0], # simply add the original objective row from the beginning\n",
    "    [1, 0, 0, 0, 1, 3,-1,15],\n",
    "    [0, 1, 0, 0, 1, 0,-1, 4],\n",
    "    [0, 0, 1, 0, 2, 1,-1,10],\n",
    "    [0, 0, 0, 1,-1,-1,-1,-3]\n",
    "], dtype=float)\n",
    "T = pivot(T,5,6)\n",
    "T = pivot(T,5,5)\n",
    "T = np.delete(T,6,1) # delete column corresponding to x0\n",
    "T = np.delete(T,0,0) # delete auxiliary objective row\n",
    "print(T)"
   ]
  },
  {
   "cell_type": "code",
   "execution_count": null,
   "metadata": {},
   "outputs": [],
   "source": []
  }
 ],
 "metadata": {
  "kernelspec": {
   "display_name": "Python 3",
   "language": "python",
   "name": "python3"
  },
  "language_info": {
   "codemirror_mode": {
    "name": "ipython",
    "version": 3
   },
   "file_extension": ".py",
   "mimetype": "text/x-python",
   "name": "python",
   "nbconvert_exporter": "python",
   "pygments_lexer": "ipython3",
   "version": "3.7.7"
  }
 },
 "nbformat": 4,
 "nbformat_minor": 4
}
