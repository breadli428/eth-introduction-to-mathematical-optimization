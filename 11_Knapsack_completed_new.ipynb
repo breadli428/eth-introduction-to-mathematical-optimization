{
 "cells": [
  {
   "cell_type": "markdown",
   "metadata": {},
   "source": [
    "# Santa's Sleigh\n",
    "\n",
    "The year 2020 is coming to an end and Santa is preparing for Christmas. However, this year the Elves made too many gifts and Santa can't take all of them with him at once: the total of his sleigh has to be below below a certain threshold so that his reindeer are still able to pull the sleigh around the world. Therefore, Santa needs to carefully choose the gifts to take so that his sleigh is not overloaded and the amount of happiness he brings to the world is as large as possible. (The remaining gifts will be delivered by other means.) Santa asked you for help with this task.\n",
    "\n",
    "The table below lists all of Santa's gifts together with their weight and the amount of happiness they bring to the world. Your task is to choose a set of gifts such that the combined weight is below 250 kg, which is the weight limit of the sleigh, and the total happiness is maximized.\n",
    "\n",
    "<table class=\"center\">\n",
    "    <tr>\n",
    "        <th style=\"text-align:center\">Item </th>\n",
    "        <th style=\"text-align:center\">Weight [kg]</th>\n",
    "        <th style=\"text-align:center\">Happiness </th>\n",
    "        <th style=\"text-align:center\">Amount </th>\n",
    "    </tr>\n",
    "    <tr>\n",
    "        <td style=\"text-align:center\">Teddy Bear</td>\n",
    "        <td style=\"text-align:center\">0.5</td>\n",
    "        <td style=\"text-align:center\">7</td>\n",
    "        <td style=\"text-align:center\">90</td>\n",
    "    </tr>\n",
    "    <tr>\n",
    "        <td style=\"text-align:center\">LEGO Saturn V Rocket</td>\n",
    "        <td style=\"text-align:center\">2.5</td>\n",
    "        <td style=\"text-align:center\">32</td>\n",
    "        <td style=\"text-align:center\">20</td>\n",
    "    </tr>\n",
    "    <tr>\n",
    "        <td style=\"text-align:center\">Mountain Bike</td>\n",
    "        <td style=\"text-align:center\">16.5</td>\n",
    "        <td style=\"text-align:center\">230</td>\n",
    "        <td style=\"text-align:center\">6</td>\n",
    "    </tr>\n",
    "    <tr>\n",
    "        <td style=\"text-align:center\">LEGO Mindstorms RobotKit</td>\n",
    "        <td style=\"text-align:center\">2</td>\n",
    "        <td style=\"text-align:center\">28</td>\n",
    "        <td style=\"text-align:center\">20</td>\n",
    "    </tr>\n",
    "    <tr>\n",
    "        <td style=\"text-align:center\">Barbie Malibu House</td>\n",
    "        <td style=\"text-align:center\">5</td>\n",
    "        <td style=\"text-align:center\">70</td>\n",
    "        <td style=\"text-align:center\">10</td>\n",
    "    </tr>\n",
    "    <tr>\n",
    "        <td style=\"text-align:center\">Playmobil RC Freight Train</td>\n",
    "        <td style=\"text-align:center\">4</td>\n",
    "        <td style=\"text-align:center\">50</td>\n",
    "        <td style=\"text-align:center\">15</td>\n",
    "    </tr>\n",
    "</table>"
   ]
  },
  {
   "cell_type": "markdown",
   "metadata": {},
   "source": [
    "## Task 1. DP Solution\n",
    "\n",
    "<b>Your task:</b> Solve the problem using dynamic programming."
   ]
  },
  {
   "cell_type": "code",
   "execution_count": 1,
   "metadata": {},
   "outputs": [
    {
     "name": "stdout",
     "output_type": "stream",
     "text": [
      "Santa has to pack:\n",
      "87 of Teddy Bear\n",
      "7 of LEGO Saturn V Rocket\n",
      "6 of Mountain Bike\n",
      "20 of LEGO Mindstorms RobotKit\n",
      "10 of Barbie Malibu House\n",
      "0 of Playmobil RC Freight Train\n"
     ]
    }
   ],
   "source": [
    "import numpy as np\n",
    "\n",
    "def knapsack_dp(values,weights,n_items,capacity,return_all=False):\n",
    "    table = np.zeros((n_items+1,capacity+1),dtype=np.float32)\n",
    "    keep = np.zeros((n_items+1,capacity+1),dtype=np.float32)\n",
    "    for i in range(1,n_items+1):\n",
    "        for w in range(0,capacity+1):\n",
    "            wi = weights[i-1] # weight of current item\n",
    "            vi = values[i-1] # value of current item\n",
    "            if (wi <= w) and (vi + table[i-1,w-wi] > table[i-1,w]):\n",
    "                table[i,w] = vi + table[i-1,w-wi]\n",
    "                keep[i,w] = 1\n",
    "            else:\n",
    "                table[i,w] = table[i-1,w]\n",
    "    picks = []\n",
    "    K = capacity\n",
    "    for i in range(n_items,0,-1):\n",
    "        if keep[i,K] == 1:\n",
    "            picks.append(i)\n",
    "            K -= weights[i-1]\n",
    "    picks.sort()\n",
    "    picks = [x-1 for x in picks] # change to 0-index\n",
    "    if return_all:\n",
    "        max_val = table[n_items,capacity]\n",
    "        return picks,max_val\n",
    "    return picks\n",
    "\n",
    "\n",
    "items = {\"Teddy Bear\" : [0.5,7,90,0],\n",
    "         \"LEGO Saturn V Rocket\" : [2.5,32,20,0],\n",
    "         \"Mountain Bike\" : [16.5,230,6,0],\n",
    "         \"LEGO Mindstorms RobotKit\" : [2,28,20,0],\n",
    "         \"Barbie Malibu House\" : [5,70,10,0],\n",
    "         \"Playmobil RC Freight Train\" : [4,50,15,0]\n",
    "}\n",
    "\n",
    "#We change our bounded Knapsack problem to a 0-1 Knapsack problem, by creating one entrie for each item we have\n",
    "#e.g we will create 90 entries with value 7 and weight 1 for the 90 Teddy Bears we have\n",
    "#we double our weights to get integer values for our weights, the result will not change!\n",
    "val=[] #values of happiness\n",
    "wt=[] #weights of the items\n",
    "n=0  #number of total items we choose from\n",
    "for arr in items.values():\n",
    "    for i in range(arr[2]):\n",
    "        val.append(arr[1])\n",
    "        wt.append(int(2*arr[0]))\n",
    "    n+=arr[2]\n",
    "#our Capacity or Weight allowed (again doubled preserve the right result)\n",
    "W=500\n",
    "\n",
    "#a list of the indexes of the items we choose\n",
    "picks = knapsack_dp(val,wt,n,W)\n",
    "\n",
    "#convert our picks back to the number of items we have to take of each type\n",
    "it=0\n",
    "curr_max = list(items.values())[it][2]\n",
    "for i in range(len(picks)):\n",
    "    if picks[i] < curr_max:\n",
    "        list(items.values())[it][3]+=1\n",
    "    else:\n",
    "        it += 1\n",
    "        curr_max += list(items.values())[it][2]\n",
    "        list(items.values())[it][3]+=1\n",
    "\n",
    "\n",
    "print(\"Santa has to pack:\")\n",
    "for m in items.items():\n",
    "    print(str(m[1][3]) + \" of \" + m[0])"
   ]
  },
  {
   "cell_type": "markdown",
   "metadata": {},
   "source": [
    "## Task 2. ILP Solution\n",
    "\n",
    "<b>Your task:</b> Solve the problem with `pulp` by creating and solving an integer linear program."
   ]
  },
  {
   "cell_type": "code",
   "execution_count": 2,
   "metadata": {},
   "outputs": [
    {
     "name": "stdout",
     "output_type": "stream",
     "text": [
      "Santa has to pack:\n",
      "87.0 of Teddy Bear\n",
      "7.0 of LEGO Saturn V Rocket\n",
      "6.0 of Mountain Bike\n",
      "20.0 of LEGO Mindstorms RobotKit\n",
      "10.0 of Barbie Malibu House\n",
      "0.0 of Playmobil RC Freight Train\n"
     ]
    }
   ],
   "source": [
    "import pulp\n",
    "\n",
    "integerProgram = pulp.LpProblem(\"Knapsack_Integer_Problem\", pulp.LpMaximize)\n",
    "\n",
    "#Define the variable\n",
    "Vars = pulp.LpVariable.dicts(\"Number_of\",(k[0] for k in items.items()), lowBound=0, upBound=100, cat=pulp.LpInteger)\n",
    "\n",
    "#Change the upper bound to the correct value\n",
    "for k in items.items():\n",
    "    Vars[k[0]].upBound = k[1][2]\n",
    "    \n",
    "# Objective Function\n",
    "integerProgram += pulp.lpSum([m[1][1] * Vars[m[0]] for m in items.items()])\n",
    "\n",
    "# Constraint\n",
    "integerProgram += pulp.lpSum([m[1][0] * Vars[m[0]] for m in items.items()]) <=250\n",
    "\n",
    "integerProgram.solve()\n",
    "\n",
    "print(\"Santa has to pack:\")\n",
    "for k in items.items():\n",
    "    print(str(Vars[k[0]].value()) + \" of \" + k[0])"
   ]
  },
  {
   "cell_type": "markdown",
   "metadata": {},
   "source": [
    "## Task 3. Dropping Integrality\n",
    "\n",
    "<b>Your task:</b> Remove the integrality constraints from the IP you created in Task 2 and solve the resulting LP.\n",
    "\n",
    "How can you obtain the optimal solution to the LP via a manual calculation, without using `pulp`?"
   ]
  },
  {
   "cell_type": "code",
   "execution_count": 3,
   "metadata": {},
   "outputs": [
    {
     "name": "stdout",
     "output_type": "stream",
     "text": [
      "Santa has to pack:\n",
      "90.0 of Teddy Bear\n",
      "6.4 of LEGO Saturn V Rocket\n",
      "6.0 of Mountain Bike\n",
      "20.0 of LEGO Mindstorms RobotKit\n",
      "10.0 of Barbie Malibu House\n",
      "0.0 of Playmobil RC Freight Train\n"
     ]
    }
   ],
   "source": [
    "linearProgram = pulp.LpProblem(\"Knapsack_Linear_Problem\", pulp.LpMaximize)\n",
    "\n",
    "#Define the variables\n",
    "Vars = pulp.LpVariable.dicts(\"Number_of\",(k[0] for k in items.items()), lowBound=0, upBound=100, cat=pulp.LpContinuous)\n",
    "\n",
    "#Change the upper bound to the correct value\n",
    "for k in items.items():\n",
    "    Vars[k[0]].upBound = k[1][2]\n",
    "    \n",
    "# Objective Function\n",
    "linearProgram += pulp.lpSum([m[1][1] * Vars[m[0]] for m in items.items()])\n",
    "\n",
    "# Constraint\n",
    "linearProgram += pulp.lpSum([m[1][0] * Vars[m[0]] for m in items.items()]) <=250\n",
    "\n",
    "linearProgram.solve()\n",
    "\n",
    "print(\"Santa has to pack:\")\n",
    "for k in items.items():\n",
    "    print(str(Vars[k[0]].value()) + \" of \" + k[0])"
   ]
  },
  {
   "cell_type": "markdown",
   "metadata": {},
   "source": [
    "Since the gifts can now be packed fractionally, it's always worth it to take the gift with a higher ratio of happiness to weight over the one with a lower ratio. Therefore, we can obtain the optimal solution to the LP as follows:\n",
    "\n",
    "1. Compute the happiness to weight ratio for every gift;\n",
    "2. Pack whole gifts in the order of decreasing happiness per kilogram as long as we don't exceed the weight limit;\n",
    "3. If taking the last gift would exceed the weight limit, take a fraction of it that would get us exactly to the weight limit.\n",
    "\n",
    "This solution is optimal, since we can replace a fraction of a taken gift with lower happiness per kilogram with the same fraction of a gift not taken with higher happiness to weight ratio."
   ]
  }
 ],
 "metadata": {
  "kernelspec": {
   "display_name": "Python 3",
   "language": "python",
   "name": "python3"
  },
  "language_info": {
   "codemirror_mode": {
    "name": "ipython",
    "version": 3
   },
   "file_extension": ".py",
   "mimetype": "text/x-python",
   "name": "python",
   "nbconvert_exporter": "python",
   "pygments_lexer": "ipython3",
   "version": "3.8.5"
  }
 },
 "nbformat": 4,
 "nbformat_minor": 4
}
